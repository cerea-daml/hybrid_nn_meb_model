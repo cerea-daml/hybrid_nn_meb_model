{
 "cells": [
  {
   "cell_type": "code",
   "execution_count": null,
   "id": "ba6b2484-e78b-427b-9e09-4689edd6153e",
   "metadata": {},
   "outputs": [],
   "source": [
    "import sys\n",
    "sys.path.append(\"../\")\n",
    "import os\n",
    "\n",
    "import xarray as xr\n",
    "import numpy as np\n",
    "import pandas as pd\n",
    "\n",
    "from tqdm.notebook import tqdm\n",
    "\n",
    "from distributed import LocalCluster, Client\n",
    "\n",
    "import src_screening.model.accessor\n",
    "from src_screening.model.wave_forcing import WaveForcing\n",
    "\n",
    "import matplotlib.pyplot as plt\n",
    "import cmocean\n",
    "import matplotlib.gridspec as mpl_gs"
   ]
  },
  {
   "cell_type": "code",
   "execution_count": null,
   "id": "69614baa-1936-4c8f-b4be-d03e7aeebd8f",
   "metadata": {},
   "outputs": [],
   "source": [
    "plt.style.use(\"paper\")\n",
    "plt.style.use(\"egu_journals\")"
   ]
  },
  {
   "cell_type": "code",
   "execution_count": null,
   "id": "45a27436-3ae9-462d-bae4-892d926e7d1b",
   "metadata": {},
   "outputs": [],
   "source": [
    "local_cluster = LocalCluster(n_workers=48, local_directory=\"/tmp\")\n",
    "client = Client(local_cluster)"
   ]
  },
  {
   "cell_type": "markdown",
   "id": "77607402-1593-4144-ae2a-bce681cc7d27",
   "metadata": {},
   "source": [
    "## Load data"
   ]
  },
  {
   "cell_type": "code",
   "execution_count": null,
   "id": "74360e8c-dc6c-4cdf-95ec-a22749d43b16",
   "metadata": {},
   "outputs": [],
   "source": [
    "ds_hr_nature = xr.open_zarr(\"../../data/raw/test/hr_nature_forecast/\")\n",
    "ds_forecast = xr.open_zarr(\"../../data/raw/test/lr_forecast/\")\n",
    "ds_hybrid = xr.open_dataset(\n",
    "    \"../../data/processed/unext_small/9/traj_short/\", engine=\"zarr\",\n",
    "    chunks={\"time\": -1, \"ensemble\": 1, \"lead_time\": -1, \"nMesh2_node\": -1, \"nMesh2_face\": -1}\n",
    ")"
   ]
  },
  {
   "cell_type": "markdown",
   "id": "97727870-272a-44d5-bbdb-7bbc78706753",
   "metadata": {},
   "source": [
    "# Create nice animation"
   ]
  },
  {
   "cell_type": "code",
   "execution_count": null,
   "id": "3a5bbac1-6654-490c-bfde-08b81eaac1d5",
   "metadata": {},
   "outputs": [],
   "source": [
    "pltdata_hr = ds_hr_nature.sel(ensemble=41, time=\"1970-01-02T04:00:00\")\n",
    "pltdata_forecast = ds_forecast.sel(ensemble=41, time=\"1970-01-02T04:00:00\")\n",
    "pltdata_hybrid = ds_hybrid.sel(ensemble=41, time=\"1970-01-02T04:00:00\")"
   ]
  },
  {
   "cell_type": "code",
   "execution_count": null,
   "id": "b41d70a1-62a0-4c50-8db1-5b26a5a6dafa",
   "metadata": {},
   "outputs": [],
   "source": [
    "figsize = (plt.rcParams[\"figure.figsize\"][0]*0.4, plt.rcParams[\"figure.figsize\"][0]*0.4*50/32)\n",
    "fig = plt.figure(figsize=figsize, dpi=300)\n",
    "\n",
    "gridspec = mpl_gs.GridSpec(nrows=1, ncols=32, wspace=50)\n",
    "ax_hr = fig.add_subplot(gridspec[:, :10])\n",
    "ax_lr = fig.add_subplot(gridspec[:, 10:20])\n",
    "ax_hybrid = fig.add_subplot(gridspec[:, 20:30])\n",
    "\n",
    "ax_hr.axis(\"off\")\n",
    "ax_lr.axis(\"off\")\n",
    "ax_hybrid.axis(\"off\")\n",
    "\n",
    "plt_hr = ax_hr.tripcolor(pltdata_hr.sinn.triangulation, 1-pltdata_hr[\"damage\"].sel(lead_time=\"1 hour\"), cmap=\"cmo.ice_r\", vmin=0., vmax=1, rasterized=True)\n",
    "plt_fcst = ax_lr.tripcolor(pltdata_forecast.sinn.triangulation, 1-pltdata_forecast[\"damage\"].sel(lead_time=\"1 hour\"), cmap=\"cmo.ice_r\", vmin=0., vmax=1, rasterized=True)\n",
    "plt_fcst = ax_hybrid.tripcolor(pltdata_hybrid.sinn.triangulation, 1-pltdata_hybrid[\"damage\"].sel(lead_time=\"1 hour\"), cmap=\"cmo.ice_r\", vmin=0., vmax=1, rasterized=True)\n",
    "\n",
    "ax_hr.set_xlim(-20000, 20000)\n",
    "ax_hr.set_ylim(-100000, 100000)\n",
    "\n",
    "ax_lr.set_xlim(-20000, 20000)\n",
    "ax_lr.set_ylim(-100000, 100000)\n",
    "\n",
    "ax_hybrid.set_xlim(-20000, 20000)\n",
    "ax_hybrid.set_ylim(-100000, 100000)\n",
    "\n",
    "ax_hr.text(x=0.5, y=1.01, s=\"(a) High-res\", transform=ax_hr.transAxes, ha=\"center\", va=\"bottom\", fontsize=9)\n",
    "ax_lr.text(x=0.5, y=1.01, s=\"(b) Low-res\", transform=ax_lr.transAxes, ha=\"center\", va=\"bottom\", fontsize=9)\n",
    "ax_hybrid.text(x=0.5, y=1.01, s=\"(c) Hybrid\", transform=ax_hybrid.transAxes, ha=\"center\", va=\"bottom\", fontsize=9)\n",
    "\n",
    "ax_cbar = fig.add_subplot(gridspec[:, 30:])\n",
    "cbar = fig.colorbar(plt_fcst, cax=ax_cbar)\n",
    "cbar.set_label(\"Damage (1)\")\n",
    "\n",
    "fig.savefig(\"figures/fig01_intro_multifractality.pdf\", pad_inches=0., bbox_inches=\"tight\")"
   ]
  },
  {
   "cell_type": "code",
   "execution_count": null,
   "id": "5ec9855a-b49b-4ab4-b183-1b421bf2f012",
   "metadata": {},
   "outputs": [],
   "source": []
  }
 ],
 "metadata": {
  "kernelspec": {
   "display_name": "Python [conda env:subsinn]",
   "language": "python",
   "name": "conda-env-subsinn-py"
  },
  "language_info": {
   "codemirror_mode": {
    "name": "ipython",
    "version": 3
   },
   "file_extension": ".py",
   "mimetype": "text/x-python",
   "name": "python",
   "nbconvert_exporter": "python",
   "pygments_lexer": "ipython3"
  }
 },
 "nbformat": 4,
 "nbformat_minor": 5
}
