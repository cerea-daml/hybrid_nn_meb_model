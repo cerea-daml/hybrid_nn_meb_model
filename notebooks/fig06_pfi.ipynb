{
 "cells": [
  {
   "cell_type": "code",
   "execution_count": null,
   "id": "39c9a4af-c4ec-4306-aad2-e3c6799837da",
   "metadata": {},
   "outputs": [],
   "source": [
    "import sys\n",
    "sys.path.append(\"../../\")\n",
    "\n",
    "import os\n",
    "from functools import partial\n",
    "\n",
    "import numpy as np\n",
    "import xarray as xr\n",
    "\n",
    "from tqdm.notebook import tqdm\n",
    "\n",
    "import torch\n",
    "import torch.nn\n",
    "from torch.utils.data import DataLoader\n",
    "\n",
    "from hydra import initialize, compose\n",
    "from hydra.utils import instantiate\n",
    "\n",
    "import matplotlib as mpl\n",
    "import matplotlib.pyplot as plt\n",
    "import matplotlib.colors as mpl_colors\n",
    "import matplotlib.gridspec as mpl_gs\n",
    "from matplotlib.patches import Rectangle\n",
    "import cmocean\n",
    "\n",
    "import src_screening.model.accessor\n",
    "from src_screening.datasets import OfflineDataset"
   ]
  },
  {
   "cell_type": "code",
   "execution_count": null,
   "id": "df3ac61b-90e4-4c43-a657-7ddea5b0398b",
   "metadata": {},
   "outputs": [],
   "source": [
    "plt.style.use(\"paper\")\n",
    "plt.style.use(\"egu_journals\")"
   ]
  },
  {
   "cell_type": "markdown",
   "id": "df8185af-348f-4c5a-a707-9dd4831c3ae1",
   "metadata": {},
   "source": [
    "# Load model"
   ]
  },
  {
   "cell_type": "code",
   "execution_count": null,
   "id": "a1ed5809-a9ae-4133-85a5-47f5a69eb46c",
   "metadata": {},
   "outputs": [],
   "source": [
    "def load_model(\n",
    "        model_checkpoint: str,\n",
    ") -> torch.nn.Module:\n",
    "    model_dir = os.path.dirname(model_checkpoint)\n",
    "    with initialize(config_path=os.path.join(model_dir, 'hydra')):\n",
    "        cfg = compose('config.yaml')\n",
    "    if \"model\" in cfg.keys():\n",
    "        cfg[\"model\"][\"_target_\"] = cfg[\"model\"][\"_target_\"].replace(\n",
    "            \".model.\", \".network.\"\n",
    "        )\n",
    "        cfg[\"model\"][\"backbone\"][\"_target_\"] = cfg[\"model\"][\"backbone\"][\"_target_\"].replace(\n",
    "            \".model.\", \".network.\"\n",
    "        )\n",
    "        cfg[\"model\"][\"backbone\"][\"cartesian_weights_path\"] = \"../../\" + cfg[\"model\"][\"backbone\"][\"cartesian_weights_path\"]\n",
    "        model = instantiate(\n",
    "            cfg.model,\n",
    "            optimizer_config=cfg.optimizer,\n",
    "            _recursive_=False\n",
    "        )\n",
    "    else:\n",
    "        cfg[\"network\"][\"backbone\"][\"cartesian_weights_path\"] = \"../../\" + cfg[\"network\"][\"backbone\"][\"cartesian_weights_path\"]\n",
    "        model = instantiate(\n",
    "            cfg.network,\n",
    "            optimizer_config=cfg.optimizer,\n",
    "            _recursive_=False\n",
    "        )    \n",
    "    state_dict = torch.load(model_checkpoint, map_location=torch.device(\"cpu\"))\n",
    "    model.load_state_dict(state_dict[\"state_dict\"], strict=False)\n",
    "    model = model.eval().cpu()\n",
    "    model = model.requires_grad_(False)\n",
    "    return model"
   ]
  },
  {
   "cell_type": "code",
   "execution_count": null,
   "id": "0de0d0bf-e102-4ac5-bd67-264b9992e7ed",
   "metadata": {},
   "outputs": [],
   "source": [
    "network = load_model(\"../../data/models_jeanzay/input_difference/9/last.ckpt\").cuda()"
   ]
  },
  {
   "cell_type": "markdown",
   "id": "b04facca-288d-420e-b260-3f1e89d4061d",
   "metadata": {},
   "source": [
    "# Estimate original error"
   ]
  },
  {
   "cell_type": "code",
   "execution_count": null,
   "id": "fe94bc64-8a2d-4817-b9da-e50ee7c5ddaf",
   "metadata": {},
   "outputs": [],
   "source": [
    "dataset = OfflineDataset(\n",
    "    \"../../data/raw/test/dataset/input_difference/\",\n",
    "    \"../../data/raw/test/dataset/target_normal/\"\n",
    ")\n",
    "data_loader = DataLoader(dataset, batch_size=256, shuffle=True, num_workers=4, pin_memory=True)"
   ]
  },
  {
   "cell_type": "code",
   "execution_count": null,
   "id": "55af5a49-1bb2-42bc-beaf-e5e588f91f0d",
   "metadata": {},
   "outputs": [],
   "source": [
    "original_rmse = []\n",
    "for curr_batch in tqdm(data_loader):\n",
    "    curr_batch = {k: v.cuda() for k, v in curr_batch.items()}\n",
    "    fcst_nodes, fcst_faces = network(curr_batch[\"input_nodes\"], curr_batch[\"input_faces\"])\n",
    "    mse_nodes = (fcst_nodes-curr_batch[\"error_nodes\"]).pow(2).mean(dim=-1)\n",
    "    mse_faces = (fcst_faces-curr_batch[\"error_faces\"]).pow(2).mean(dim=-1)\n",
    "    curr_mse = torch.cat((mse_nodes, mse_faces), dim=-1).cpu()\n",
    "    original_rmse.append(curr_mse)\n",
    "original_rmse = torch.cat(original_rmse, dim=0)\n",
    "original_rmse = original_rmse.mean(dim=0).sqrt()"
   ]
  },
  {
   "cell_type": "markdown",
   "id": "49c692a9-14ea-445a-876f-bd84b02e5862",
   "metadata": {},
   "source": [
    "# Get scores for permuted inputs"
   ]
  },
  {
   "cell_type": "code",
   "execution_count": null,
   "id": "11d07ced-8ea6-44b2-a818-35aef1ad19ec",
   "metadata": {},
   "outputs": [],
   "source": [
    "n_input_nodes = 6\n",
    "n_input_faces = 14\n",
    "\n",
    "rmse_permuted = []"
   ]
  },
  {
   "cell_type": "code",
   "execution_count": null,
   "id": "c888f96e-cdf6-44d8-b247-b58daeff0486",
   "metadata": {},
   "outputs": [],
   "source": [
    "for idx_node in tqdm(range(n_input_nodes)):\n",
    "    data_loader = DataLoader(dataset, batch_size=256, shuffle=True, num_workers=4, pin_memory=True)\n",
    "    curr_node_rmse = []\n",
    "    for curr_batch in data_loader:\n",
    "        curr_batch = {k: v.cuda() for k, v in curr_batch.items()}\n",
    "        curr_batch[\"input_nodes\"][:, idx_node, :] = torch.roll(curr_batch[\"input_nodes\"][:, idx_node, :], 1, dims=0)\n",
    "        fcst_nodes, fcst_faces = network(curr_batch[\"input_nodes\"], curr_batch[\"input_faces\"])\n",
    "        mse_nodes = (fcst_nodes-curr_batch[\"error_nodes\"]).pow(2).mean(dim=-1)\n",
    "        mse_faces = (fcst_faces-curr_batch[\"error_faces\"]).pow(2).mean(dim=-1)\n",
    "        curr_mse = torch.cat((mse_nodes, mse_faces), dim=-1).cpu()\n",
    "        curr_node_rmse.append(curr_mse)\n",
    "    curr_node_rmse = torch.cat(curr_node_rmse, dim=0)\n",
    "    curr_node_rmse = curr_node_rmse.mean(dim=0).sqrt()\n",
    "    rmse_permuted.append(curr_node_rmse)"
   ]
  },
  {
   "cell_type": "code",
   "execution_count": null,
   "id": "23f4850f-6069-41cb-952f-447e876468a0",
   "metadata": {},
   "outputs": [],
   "source": [
    "for idx_face in tqdm(range(n_input_faces)):\n",
    "    data_loader = DataLoader(dataset, batch_size=256, shuffle=True, num_workers=4, pin_memory=True)\n",
    "    curr_face_rmse = []\n",
    "    for curr_batch in data_loader:\n",
    "        curr_batch = {k: v.cuda() for k, v in curr_batch.items()}\n",
    "        curr_batch[\"input_faces\"][:, idx_face, :] = torch.roll(curr_batch[\"input_faces\"][:, idx_face, :], 1, dims=0)\n",
    "        fcst_nodes, fcst_faces = network(curr_batch[\"input_nodes\"], curr_batch[\"input_faces\"])\n",
    "        mse_nodes = (fcst_nodes-curr_batch[\"error_nodes\"]).pow(2).mean(dim=-1)\n",
    "        mse_faces = (fcst_faces-curr_batch[\"error_faces\"]).pow(2).mean(dim=-1)\n",
    "        curr_mse = torch.cat((mse_nodes, mse_faces), dim=-1).cpu()\n",
    "        curr_face_rmse.append(curr_mse)\n",
    "    curr_face_rmse = torch.cat(curr_face_rmse, dim=0)\n",
    "    curr_face_rmse = curr_face_rmse.mean(dim=0).sqrt()\n",
    "    rmse_permuted.append(curr_face_rmse)"
   ]
  },
  {
   "cell_type": "code",
   "execution_count": null,
   "id": "853edc24-48e9-4c6b-a258-482d4e1b4dc6",
   "metadata": {},
   "outputs": [],
   "source": [
    "rmse_permuted = torch.stack(rmse_permuted, dim=-1)"
   ]
  },
  {
   "cell_type": "markdown",
   "id": "b414926d-05a3-4ad8-8f7b-00a424042b09",
   "metadata": {},
   "source": [
    "# Plot grad vals"
   ]
  },
  {
   "cell_type": "markdown",
   "id": "b91baa47-4990-4391-b9b4-1dbabcc7dd3a",
   "metadata": {},
   "source": [
    "## Normalise gradients"
   ]
  },
  {
   "cell_type": "code",
   "execution_count": null,
   "id": "70e3f6da-9d05-43e8-a9db-c74299393f72",
   "metadata": {},
   "outputs": [],
   "source": [
    "norm_rmse = rmse_permuted / original_rmse[:, None]"
   ]
  },
  {
   "cell_type": "markdown",
   "id": "25eea9ab-577c-497d-a5e2-b21127afedf3",
   "metadata": {},
   "source": [
    "# Reorder gradients"
   ]
  },
  {
   "cell_type": "code",
   "execution_count": null,
   "id": "08b036b0-eb24-40a6-af9a-16722c5d24d3",
   "metadata": {},
   "outputs": [],
   "source": [
    "norm_rmse_t = torch.cat((norm_rmse[:, [2]], norm_rmse[:, :2], norm_rmse[:, 6:13]), dim=-1)\n",
    "norm_rmse_t1 = torch.cat((norm_rmse[:, [5]], norm_rmse[:, 3:5], norm_rmse[:, 13:]), dim=-1)\n",
    "norm_rmse_reordered = torch.cat((norm_rmse_t, norm_rmse_t1), dim=-1)\n",
    "\n",
    "plt_rmse_reordered = norm_rmse_reordered-1\n",
    "plt_rmse_reordered = plt_rmse_reordered / plt_rmse_reordered.max(dim=-1).values[:, None]"
   ]
  },
  {
   "cell_type": "markdown",
   "id": "bce3e4a9-b03e-41e5-b006-da6e865a2131",
   "metadata": {},
   "source": [
    "# Plot matrix"
   ]
  },
  {
   "cell_type": "code",
   "execution_count": null,
   "id": "53c1336b-4837-425a-ae53-2b1061c56f71",
   "metadata": {},
   "outputs": [],
   "source": [
    "fig, ax = plt.subplots(figsize=(6, 4.5), dpi=300)\n",
    "\n",
    "plt_sal = ax.matshow(plt_rmse_reordered, cmap=\"cmo.balance\", vmin=-1, vmax=1)\n",
    "\n",
    "for row in range(9):\n",
    "    for col in range(20):\n",
    "        ax.text(\n",
    "            col, row, f\"{round(norm_rmse_reordered[row, col].item(), 1):.1f}\",\n",
    "            ha=\"center\", va=\"center\", fontsize=9,\n",
    "            c=\"white\" if plt_rmse_reordered[row, col].item() > 0.5 else \"black\")\n",
    "\n",
    "#ax.scatter(norm_grad_reordered.abs().argmax(-1).numpy(), range(9), marker=\"x\", c=\"white\")\n",
    "\n",
    "ax.spines.left.set_visible(False)\n",
    "ax.spines.bottom.set_visible(False)\n",
    "ax.xaxis.set_ticks_position('top') \n",
    "ax.xaxis.set_label_position('top') \n",
    "\n",
    "ax.set_yticks(list(range(9)))\n",
    "_ = ax.set_yticklabels([\"u - Velocity\", \"v - Velocity\", r\"$\\sigma_{xx}$\", r\"$\\sigma_{xy}$\", r\"$\\sigma_{yy}$\", \"Damage\", \"Cohesion\", \"Area\", \"Thickness\"])\n",
    "ax.set_xticks(list(range(20)))\n",
    "_ = ax.set_xticklabels([\n",
    "    \"Forcing\", \"u - Velocity\", \"v - Velocity\", r\"$\\sigma_{xx}$\", r\"$\\sigma_{xy}$\", r\"$\\sigma_{yy}$\", \"Damage\", \"Cohesion\", \"Area\", \"Thickness\",\n",
    "    \"Forcing\", \"u - Velocity\", \"v - Velocity\", r\"$\\sigma_{xx}$\", r\"$\\sigma_{xy}$\", r\"$\\sigma_{yy}$\", \"Damage\", \"Cohesion\", \"Area\", \"Thickness\",\n",
    "], rotation = 45, horizontalalignment=\"left\")\n",
    "ax.set_ylabel(r\"Output: $f(\\mathbf{x})$\")\n",
    "ax.set_xlabel(r\"Input: $\\mathbf{x}$\")\n",
    "\n",
    "ax.axvline(9.5, ymin=-1, ymax=9, c=\"black\", lw=1.5)\n",
    "\n",
    "ax.text(x=4.75, y=9, s=r\"Initial: $\\mathbf{x}_{0}$\", ha=\"center\", va=\"center\")\n",
    "ax.text(x=14.5, y=9, s=r\"Difference: $\\Delta \\mathbf{x} = \\mathbf{x}_{1}-\\mathbf{x}_{0}$\", ha=\"center\", va=\"center\")\n",
    "\n",
    "ax.set_ylim(9.2, -0.5)\n",
    "\n",
    "\n",
    "ax_cbar = fig.add_axes([1.00, 0.38, 0.01, 0.4])\n",
    "cbar = fig.colorbar(plt_sal, cax=ax_cbar, orientation=\"vertical\")\n",
    "ax_cbar.set_ylim(0, 1)\n",
    "cbar.set_ticks([])\n",
    "ax_cbar.text(x=1.18, y=1, s=\"Important\", rotation=90, transform=ax_cbar.transAxes, ha=\"left\", va=\"top\")\n",
    "ax_cbar.text(x=1.18, y=0, s=\"Unimportant\", rotation=90, transform=ax_cbar.transAxes, ha=\"left\", va=\"bottom\")\n",
    "fig.savefig(\"figures/fig06_permutation_feature_importance.pdf\", bbox_inches='tight', pad_inches = 0, dpi=300, facecolor='white', transparent=False)"
   ]
  },
  {
   "cell_type": "code",
   "execution_count": null,
   "id": "a8693856-5690-4a06-b867-041d39af62e1",
   "metadata": {},
   "outputs": [],
   "source": []
  }
 ],
 "metadata": {
  "kernelspec": {
   "display_name": "Python [conda env:subsinn]",
   "language": "python",
   "name": "conda-env-subsinn-py"
  },
  "language_info": {
   "codemirror_mode": {
    "name": "ipython",
    "version": 3
   },
   "file_extension": ".py",
   "mimetype": "text/x-python",
   "name": "python",
   "nbconvert_exporter": "python",
   "pygments_lexer": "ipython3"
  }
 },
 "nbformat": 4,
 "nbformat_minor": 5
}
