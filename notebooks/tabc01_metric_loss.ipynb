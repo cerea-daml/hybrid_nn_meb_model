{
 "cells": [
  {
   "cell_type": "code",
   "execution_count": null,
   "id": "84539e28-f0ab-4983-ba82-329e23e35237",
   "metadata": {},
   "outputs": [],
   "source": [
    "import xarray as xr\n",
    "import numpy as np\n",
    "import pandas as pd\n",
    "from pandas.plotting import table\n",
    "\n",
    "from dask.distributed import LocalCluster, Client"
   ]
  },
  {
   "cell_type": "code",
   "execution_count": null,
   "id": "d87bd13b-c4ed-4136-9128-3e30c7250f87",
   "metadata": {},
   "outputs": [],
   "source": [
    "cluster = LocalCluster(n_workers=12, threads_per_worker=1, local_directory=\"/tmp\", dashboard_address=\":8789\")\n",
    "client = Client(cluster)\n",
    "client"
   ]
  },
  {
   "cell_type": "markdown",
   "id": "358bc649-d051-46b2-993d-94da6ed94933",
   "metadata": {},
   "source": [
    "# Baseline"
   ]
  },
  {
   "cell_type": "code",
   "execution_count": null,
   "id": "15263e66-ad88-4ea6-b746-c88cf3e03a70",
   "metadata": {},
   "outputs": [],
   "source": [
    "lead_time = \"10 min 8s\""
   ]
  },
  {
   "cell_type": "markdown",
   "id": "8cda6510-2ded-4b86-b1d7-d73d6d676a9a",
   "metadata": {},
   "source": [
    "## Train data"
   ]
  },
  {
   "cell_type": "code",
   "execution_count": null,
   "id": "90f0bb91-141c-4ec0-8342-a22bfb7b7c17",
   "metadata": {},
   "outputs": [],
   "source": [
    "train_nature = xr.open_zarr(\"../../data/raw/train/lr_nature_forecast/\", chunks={\"time\": -1, \"ensemble\": 1}).sel(lead_time=lead_time)\n",
    "train_forecast = xr.open_zarr(\"../../data/raw/train/lr_forecast/\", chunks={\"time\": -1, \"ensemble\": 1}).sel(lead_time=lead_time)"
   ]
  },
  {
   "cell_type": "markdown",
   "id": "e44d2063-b342-47a2-8d56-a3d7fe5164cf",
   "metadata": {},
   "source": [
    "## Test data"
   ]
  },
  {
   "cell_type": "code",
   "execution_count": null,
   "id": "8dda89f4-579a-4976-93e4-605e7d68fadd",
   "metadata": {},
   "outputs": [],
   "source": [
    "nature_data = xr.open_zarr(\"../../data/raw/test/lr_nature_forecast/\", chunks={\"time\":  -1, \"ensemble\": 1}).sel(lead_time=lead_time)"
   ]
  },
  {
   "cell_type": "markdown",
   "id": "c3a5d4b7-51d7-4a3d-9133-6820085b868f",
   "metadata": {},
   "source": [
    "## Prediction"
   ]
  },
  {
   "cell_type": "code",
   "execution_count": null,
   "id": "eefea299-f2be-4df1-b9e2-4e31af0946fd",
   "metadata": {},
   "outputs": [],
   "source": [
    "predictions = {\n",
    "    \"gaussian_fixed\": xr.concat([xr.open_zarr(f\"../../data/processed/gaussian_fixed/{s:d}/prediction_offline\", chunks={\"time\": -1}) for s in range(10)], dim=\"seed\"),\n",
    "    \"gaussian_nll\": xr.concat([xr.open_zarr(f\"../../data/processed/gaussian_nll/{s:d}/prediction_offline\", chunks={\"time\": -1}) for s in range(10)], dim=\"seed\"),\n",
    "    \"laplace_fixed\": xr.concat([xr.open_zarr(f\"../../data/processed/laplace_fixed/{s:d}/prediction_offline\", chunks={\"time\": -1}) for s in range(10)], dim=\"seed\"),\n",
    "    \"laplace_nll\": xr.concat([xr.open_zarr(f\"../../data/processed/unext_small/{s:d}/prediction_offline\", chunks={\"time\": -1}) for s in range(10)], dim=\"seed\"),\n",
    "}"
   ]
  },
  {
   "cell_type": "markdown",
   "id": "bbde4fb8-b118-491b-b571-7d17cf445093",
   "metadata": {},
   "source": [
    "## Estimate train errors for normalization"
   ]
  },
  {
   "cell_type": "code",
   "execution_count": null,
   "id": "6f41a24b-9efc-4ce6-9928-3f0cdd84d9b4",
   "metadata": {},
   "outputs": [],
   "source": [
    "train_err = train_forecast-train_nature"
   ]
  },
  {
   "cell_type": "code",
   "execution_count": null,
   "id": "84829c8e-5a7e-4383-896d-3a6fd541c9c8",
   "metadata": {},
   "outputs": [],
   "source": [
    "train_std = train_err.std([\"ensemble\", \"time\", \"nMesh2_face\", \"nMesh2_node\"], ddof=1)\n",
    "train_median = train_err.chunk({\"ensemble\": -1}).quantile(0.5)\n",
    "train_scale = np.abs(train_err-train_median).mean([\"ensemble\", \"time\", \"nMesh2_face\", \"nMesh2_node\"])"
   ]
  },
  {
   "cell_type": "code",
   "execution_count": null,
   "id": "103e03f3-eb14-4ca3-9370-23167a42aaf7",
   "metadata": {},
   "outputs": [],
   "source": [
    "norm_std = train_std.compute()\n",
    "norm_scale = train_scale.compute()"
   ]
  },
  {
   "cell_type": "markdown",
   "id": "2d998f91-3ea5-4325-904c-03b9ba2051b8",
   "metadata": {},
   "source": [
    "# Estimate general errors"
   ]
  },
  {
   "cell_type": "code",
   "execution_count": null,
   "id": "0df41b79-3823-40ba-b5ad-29dce0e79286",
   "metadata": {},
   "outputs": [],
   "source": [
    "pred_error = {\n",
    "    name: (pred-nature_data) for name, pred in predictions.items()\n",
    "}"
   ]
  },
  {
   "cell_type": "markdown",
   "id": "197d9bc4-4f11-4cc5-b214-06a130c92f77",
   "metadata": {},
   "source": [
    "# MAE"
   ]
  },
  {
   "cell_type": "code",
   "execution_count": null,
   "id": "177ff14b-4ac8-4666-81ae-96e4c61c6d0f",
   "metadata": {},
   "outputs": [],
   "source": [
    "def get_mae(error):\n",
    "    return np.abs(error/norm_scale).mean().to_array(\"var_names\").mean()"
   ]
  },
  {
   "cell_type": "code",
   "execution_count": null,
   "id": "d11f5326-46d7-4b6a-be19-848aba4dc8c7",
   "metadata": {},
   "outputs": [],
   "source": [
    "def get_rmse(error):\n",
    "    return np.sqrt(((error/norm_std)**2).mean().to_array(\"var_names\").mean())"
   ]
  },
  {
   "cell_type": "code",
   "execution_count": null,
   "id": "44d9a4f7-6e1f-4d1e-8819-96ad38366bb0",
   "metadata": {},
   "outputs": [],
   "source": [
    "def get_corr(prediction, truth):\n",
    "    pred_perts = prediction-prediction.mean([\"nMesh2_face\", \"nMesh2_node\"])\n",
    "    truth_perts = truth-truth.mean([\"nMesh2_face\", \"nMesh2_node\"])\n",
    "    n_grid = xr.ones_like(pred_perts).sum([\"nMesh2_face\", \"nMesh2_node\"])\n",
    "    cov = (pred_perts*truth_perts).sum([\"nMesh2_face\", \"nMesh2_node\"])/(n_grid-1)\n",
    "    corr = cov / (pred_perts.std([\"nMesh2_face\", \"nMesh2_node\"], ddof=1)+1E-9) / (truth_perts.std([\"nMesh2_face\", \"nMesh2_node\"], ddof=1)+1E-9)\n",
    "    average_z = np.arctanh(corr).mean().to_array(\"var_names\").mean()\n",
    "    average_corr = np.tanh(average_z)\n",
    "    return average_corr"
   ]
  },
  {
   "cell_type": "markdown",
   "id": "c76869f3-950f-4880-a88f-a98c235f4b2a",
   "metadata": {},
   "source": [
    "# Estimate correlation"
   ]
  },
  {
   "cell_type": "code",
   "execution_count": null,
   "id": "3d00f0a0-8066-406e-a172-27fb9fa2b444",
   "metadata": {},
   "outputs": [],
   "source": [
    "mae_results = pd.Series({\n",
    "    name: float(get_mae(error))\n",
    "    for name, error in pred_error.items()\n",
    "})\n",
    "mae_results.name = \"mae\""
   ]
  },
  {
   "cell_type": "code",
   "execution_count": null,
   "id": "00b09378-caf6-4f9a-8058-fe768d6014df",
   "metadata": {},
   "outputs": [],
   "source": [
    "rmse_results = pd.Series({\n",
    "    name: float(get_rmse(error))\n",
    "    for name, error in pred_error.items()\n",
    "})\n",
    "rmse_results.name = \"rmse\""
   ]
  },
  {
   "cell_type": "code",
   "execution_count": null,
   "id": "a85f58f6-f815-4674-acf3-2c9543f1f348",
   "metadata": {},
   "outputs": [],
   "source": [
    "corr_results = pd.Series({\n",
    "    name: float(get_corr(pred, nature_data))\n",
    "    for name, pred in predictions.items()\n",
    "})\n",
    "corr_results.name = \"corr\""
   ]
  },
  {
   "cell_type": "markdown",
   "id": "897dc813-d8e0-413f-9ab5-dff7b7871fa2",
   "metadata": {},
   "source": [
    "# Combine"
   ]
  },
  {
   "cell_type": "code",
   "execution_count": null,
   "id": "53c4e4b0-7a39-4c63-a86f-275f30c34473",
   "metadata": {},
   "outputs": [],
   "source": [
    "combined_results = pd.concat([rmse_results, mae_results, corr_results], axis=1)\n",
    "#combined_results = combined_results.round(2)"
   ]
  },
  {
   "cell_type": "code",
   "execution_count": null,
   "id": "4c6e1469-2ae9-4aa5-a779-f2e2e05d5d86",
   "metadata": {},
   "outputs": [],
   "source": [
    "combined_results"
   ]
  },
  {
   "cell_type": "code",
   "execution_count": null,
   "id": "c1352368-d914-40c7-859d-c1d65df3d0cd",
   "metadata": {},
   "outputs": [],
   "source": [
    "combined_results.round(2).to_latex()"
   ]
  },
  {
   "cell_type": "code",
   "execution_count": null,
   "id": "5db8fb9b-e6fc-4052-9414-875c49389b2c",
   "metadata": {},
   "outputs": [],
   "source": []
  }
 ],
 "metadata": {
  "kernelspec": {
   "display_name": "Python [conda env:subsinn]",
   "language": "python",
   "name": "conda-env-subsinn-py"
  },
  "language_info": {
   "codemirror_mode": {
    "name": "ipython",
    "version": 3
   },
   "file_extension": ".py",
   "mimetype": "text/x-python",
   "name": "python",
   "nbconvert_exporter": "python",
   "pygments_lexer": "ipython3"
  }
 },
 "nbformat": 4,
 "nbformat_minor": 5
}
