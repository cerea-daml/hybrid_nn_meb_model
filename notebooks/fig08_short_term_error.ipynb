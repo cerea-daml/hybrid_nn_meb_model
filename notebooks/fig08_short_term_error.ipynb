{
 "cells": [
  {
   "cell_type": "code",
   "execution_count": null,
   "id": "ba6b2484-e78b-427b-9e09-4689edd6153e",
   "metadata": {},
   "outputs": [],
   "source": [
    "import os\n",
    "os.environ[\"OMP_NUM_THREADS\"] = \"1\"\n",
    "\n",
    "import xarray as xr\n",
    "import numpy as np\n",
    "import pandas as pd\n",
    "\n",
    "from tqdm.notebook import tqdm\n",
    "\n",
    "from itertools import product\n",
    "from distributed import LocalCluster, Client\n",
    "\n",
    "import matplotlib.pyplot as plt"
   ]
  },
  {
   "cell_type": "code",
   "execution_count": null,
   "id": "69614baa-1936-4c8f-b4be-d03e7aeebd8f",
   "metadata": {},
   "outputs": [],
   "source": [
    "plt.style.use(\"paper\")\n",
    "plt.style.use(\"egu_journals\")"
   ]
  },
  {
   "cell_type": "code",
   "execution_count": null,
   "id": "45a27436-3ae9-462d-bae4-892d926e7d1b",
   "metadata": {},
   "outputs": [],
   "source": [
    "local_cluster = LocalCluster(n_workers=32, threads_per_worker=1, local_directory=\"/tmp\")\n",
    "client = Client(local_cluster)\n",
    "client"
   ]
  },
  {
   "cell_type": "markdown",
   "id": "7b473ebb-031d-4a56-a496-9b74134b0f41",
   "metadata": {},
   "source": [
    "# Estimate normaliser"
   ]
  },
  {
   "cell_type": "code",
   "execution_count": null,
   "id": "2b04f68f-c15c-4a1f-bd68-bbdb13f0d137",
   "metadata": {},
   "outputs": [],
   "source": [
    "nature_train_data = xr.open_zarr(f\"../../data/raw/train/nature_data/\").sel(lead_time=\"10 min 8s\").chunk({\"samples\": 50})\n",
    "forecast_train_data = xr.open_zarr(\"../../data/raw/train/forecast_data/\").sel(lead_time=\"10 min 8s\").chunk({\"samples\": 50})"
   ]
  },
  {
   "cell_type": "code",
   "execution_count": null,
   "id": "0659c181-3674-44d7-89ad-58d79cead6d9",
   "metadata": {},
   "outputs": [],
   "source": [
    "train_err = nature_train_data-forecast_train_data"
   ]
  },
  {
   "cell_type": "code",
   "execution_count": null,
   "id": "c21b68e1-ccd5-4c05-b30c-07a4b7c01895",
   "metadata": {},
   "outputs": [],
   "source": [
    "norm_rmse = np.sqrt((train_err**2).mean()).compute()"
   ]
  },
  {
   "cell_type": "markdown",
   "id": "77607402-1593-4144-ae2a-bce681cc7d27",
   "metadata": {},
   "source": [
    "# Forecast nature"
   ]
  },
  {
   "cell_type": "code",
   "execution_count": null,
   "id": "ecf53522-ee09-458b-8eac-8d0034764d0d",
   "metadata": {},
   "outputs": [],
   "source": [
    "ds_nature = xr.open_zarr(f\"../../data/raw/test/lr_nature_forecast/\", chunks={\"time\": -1, \"ensemble\": 1, \"nMesh2_face\": -1, \"nMesh2_node\": -1})\n",
    "ds_forecast = xr.open_zarr(f\"../../data/raw/test/lr_forecast/\", chunks={\"time\": -1, \"ensemble\": 1, \"nMesh2_face\": -1, \"nMesh2_node\": -1})"
   ]
  },
  {
   "cell_type": "code",
   "execution_count": null,
   "id": "7a3d4a77-90e8-4946-9996-0537c0871cf9",
   "metadata": {},
   "outputs": [],
   "source": [
    "ds_nn_sota = xr.open_mfdataset(\"../../data/processed/unext_small/*/traj_short/\", engine=\"zarr\", concat_dim=\"seed\", combine=\"nested\", parallel=True,\n",
    "                               chunks={\"time\": -1, \"ensemble\": 1, \"nMesh2_face\": -1, \"nMesh2_node\": -1})\n",
    "ds_nn_sota = ds_nn_sota.sel(lead_time=~ds_nn_sota.indexes[\"lead_time\"].duplicated(keep=\"last\"))"
   ]
  },
  {
   "cell_type": "code",
   "execution_count": null,
   "id": "1900a424-51a5-46ee-b88b-652a3d6c8576",
   "metadata": {},
   "outputs": [],
   "source": [
    "ds_nn_other = xr.open_mfdataset(\"../../data/processed/input_difference/*/traj_short/\", engine=\"zarr\", concat_dim=\"seed\", combine=\"nested\", parallel=True,\n",
    "                                chunks={\"time\": -1, \"ensemble\": 1, \"nMesh2_face\": -1, \"nMesh2_node\": -1})\n",
    "ds_nn_other = ds_nn_other.sel(lead_time=~ds_nn_other.indexes[\"lead_time\"].duplicated(keep=\"last\"))"
   ]
  },
  {
   "cell_type": "markdown",
   "id": "10ed5a98-a93a-4fb6-9524-6cf7c49a1b78",
   "metadata": {},
   "source": [
    "# Estimate scores"
   ]
  },
  {
   "cell_type": "code",
   "execution_count": null,
   "id": "cf8deed0-aa2f-49c5-b152-2525b9ac3ce3",
   "metadata": {},
   "outputs": [],
   "source": [
    "rmse_fcst = np.sqrt(((ds_forecast-ds_nature)**2).mean([\"time\", \"ensemble\", \"nMesh2_node\", \"nMesh2_face\"])).compute()\n",
    "rmse_persist = np.sqrt(((ds_nature.isel(lead_time=0)-ds_nature)**2).mean([\"time\", \"ensemble\", \"nMesh2_node\", \"nMesh2_face\"])).compute()"
   ]
  },
  {
   "cell_type": "code",
   "execution_count": null,
   "id": "a465a7ca-b062-420e-84b7-e746ef93ae3b",
   "metadata": {},
   "outputs": [],
   "source": [
    "rmse_nn_sota = np.sqrt(((ds_nn_sota-ds_nature)**2).mean([\"time\", \"seed\", \"ensemble\", \"nMesh2_node\", \"nMesh2_face\"])).compute()\n",
    "rmse_nn_other = np.sqrt(((ds_nn_other-ds_nature)**2).mean([\"time\", \"seed\", \"ensemble\", \"nMesh2_node\", \"nMesh2_face\"])).compute()"
   ]
  },
  {
   "cell_type": "code",
   "execution_count": null,
   "id": "9b23ceea-c03a-460c-8740-ebcc908d476c",
   "metadata": {},
   "outputs": [],
   "source": [
    "def error_subplot(ax, var_name, factor=1.):\n",
    "    baseline_plt, = ax.plot(\n",
    "        rmse_fcst.indexes[\"lead_time\"]/pd.to_timedelta(\"1min\"),\n",
    "        rmse_fcst[var_name]/norm_rmse[var_name],\n",
    "        c=\"black\", label=\"Forecast\", ls=\"-\"\n",
    "    )\n",
    "    persist_plt, = ax.plot(\n",
    "        rmse_persist.indexes[\"lead_time\"]/pd.to_timedelta(\"1min\"),\n",
    "        rmse_persist[var_name]/norm_rmse[var_name],\n",
    "        c=\"0.5\", label=\"Persistance\", ls=\"-.\"\n",
    "    )\n",
    "    sota_plt, = ax.plot(\n",
    "        rmse_nn_sota.indexes[\"lead_time\"]/pd.to_timedelta(\"1min\"),\n",
    "        rmse_nn_sota[var_name]/norm_rmse[var_name],\n",
    "        c=\"firebrick\", label=\"Input+Forecast\", ls=\"--\"\n",
    "    )\n",
    "    other_plt, = ax.plot(\n",
    "        rmse_nn_other.indexes[\"lead_time\"]/pd.to_timedelta(\"1min\"),\n",
    "        rmse_nn_other[var_name]/norm_rmse[var_name],\n",
    "        c=\"C0\", label=\"Input+Difference\", ls=\"--\"\n",
    "    )\n",
    "    return [persist_plt, baseline_plt, sota_plt, other_plt]"
   ]
  },
  {
   "cell_type": "code",
   "execution_count": null,
   "id": "ea05c7ce-68de-4198-b08d-9319a8925685",
   "metadata": {},
   "outputs": [],
   "source": [
    "x_minor_ticks = pd.to_timedelta([\"10 min 8s\", \"20 min 16s\", \"30 min 24s\", \"40 min 32s\", \"50 min 40s\"]) /pd.to_timedelta(\"1min\")"
   ]
  },
  {
   "cell_type": "code",
   "execution_count": null,
   "id": "67f065aa-5df2-4934-b163-06cebc037b6e",
   "metadata": {},
   "outputs": [],
   "source": [
    "fig, ax = plt.subplots(nrows=4)\n",
    "\n",
    "error_subplot(ax[0], \"v\")\n",
    "error_subplot(ax[1], \"stress_yy\")\n",
    "handles = error_subplot(ax[2], \"damage\")\n",
    "handles = error_subplot(ax[3], \"area\")\n",
    "\n",
    "# ax[0].set_ylabel(\"Velocity\")\n",
    "# ax[1].set_ylabel(\"Stress\")\n",
    "# ax[2].set_ylabel(\"Damage\")\n",
    "# ax[3].set_ylabel(\"Area\")\n",
    "\n",
    "ax[0].grid(which='major', alpha=0.5, linestyle=\"dotted\", lw=0.5)\n",
    "ax[1].grid(which='major', alpha=0.5, linestyle=\"dotted\", lw=0.5)\n",
    "ax[2].grid(which='major', alpha=0.5, linestyle=\"dotted\", lw=0.5)\n",
    "ax[3].grid(which='major', alpha=0.5, linestyle=\"dotted\", lw=0.5)\n",
    "\n",
    "ax[0].text(0.01, 0.99, s=\"(a) Velocity\", ha=\"left\", va=\"top\", transform=ax[0].transAxes, fontsize=9)\n",
    "ax[1].text(0.01, 0.99, s=r\"(b) $\\sigma_{yy}$\", ha=\"left\", va=\"top\", transform=ax[1].transAxes, fontsize=9)\n",
    "ax[2].text(0.01, 0.99, s=\"(c) Damage\", ha=\"left\", va=\"top\", transform=ax[2].transAxes, fontsize=9)\n",
    "ax[3].text(0.01, 0.99, s=\"(d) Area\", ha=\"left\", va=\"top\", transform=ax[3].transAxes, fontsize=9)\n",
    "\n",
    "\n",
    "ax[0].set_ylim(0, 1.9)\n",
    "ax[1].set_ylim(0, 1.3)\n",
    "ax[2].set_ylim(0, 2.5)\n",
    "ax[3].set_ylim(0, 14)\n",
    "\n",
    "ax[0].set_xlim(0, 61)\n",
    "ax[0].set_xticks(np.arange(0, 61, 10))\n",
    "ax[0].set_xticklabels([\"\"]*7)\n",
    "ax[1].set_xlim(0, 61)\n",
    "ax[1].set_xticks(np.arange(0, 61, 10))\n",
    "ax[1].set_xticklabels([\"\"]*7)\n",
    "ax[2].set_xlim(0, 61)\n",
    "ax[2].set_xticks(np.arange(0, 61, 10))\n",
    "ax[2].set_xticklabels([\"\"]*7)\n",
    "ax[3].set_xlim(0, 61)\n",
    "ax[3].set_xticks(np.arange(0, 61, 10))\n",
    "ax[3].set_xlabel(\"Lead time in min\")\n",
    "\n",
    "fig.subplots_adjust(hspace=0.1)\n",
    "\n",
    "ax[0].legend(\n",
    "    handles=handles,\n",
    "    labels=[\"Persistence\", \"Forecast model\", \"Hybrid \\\"Initial+Forecast\\\"\", \"Hybrid \\\"Initial+Difference\\\"\",],\n",
    "    ncol=2,\n",
    "    bbox_to_anchor=(0.5, 0.9),\n",
    "    loc=\"lower center\"\n",
    ")\n",
    "fig.supylabel(\"Normalised RMSE\", x=0.085, fontsize=9)\n",
    "\n",
    "\n",
    "fig.savefig(\"figures/fig08_short_term_error.pdf\", dpi=300, bbox_inches='tight', pad_inches = 0)"
   ]
  },
  {
   "cell_type": "code",
   "execution_count": null,
   "id": "d0625d2c-2517-404c-9f2b-2ef5eb6583a6",
   "metadata": {},
   "outputs": [],
   "source": []
  }
 ],
 "metadata": {
  "kernelspec": {
   "display_name": "Python [conda env:subsinn]",
   "language": "python",
   "name": "conda-env-subsinn-py"
  },
  "language_info": {
   "codemirror_mode": {
    "name": "ipython",
    "version": 3
   },
   "file_extension": ".py",
   "mimetype": "text/x-python",
   "name": "python",
   "nbconvert_exporter": "python",
   "pygments_lexer": "ipython3"
  }
 },
 "nbformat": 4,
 "nbformat_minor": 5
}
