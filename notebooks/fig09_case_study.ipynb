{
 "cells": [
  {
   "cell_type": "code",
   "execution_count": null,
   "id": "ba6b2484-e78b-427b-9e09-4689edd6153e",
   "metadata": {},
   "outputs": [],
   "source": [
    "import os\n",
    "\n",
    "import xarray as xr\n",
    "import numpy as np\n",
    "import pandas as pd\n",
    "\n",
    "from tqdm.notebook import tqdm\n",
    "\n",
    "from distributed import LocalCluster, Client\n",
    "\n",
    "import src_screening.model.accessor\n",
    "from src_screening.model.wave_forcing import WaveForcing\n",
    "from src_screening.model.post_processing import estimate_xr_grads, estimate_deform\n",
    "\n",
    "import matplotlib.pyplot as plt\n",
    "import cmocean\n",
    "import matplotlib.gridspec as mpl_gs"
   ]
  },
  {
   "cell_type": "code",
   "execution_count": null,
   "id": "69614baa-1936-4c8f-b4be-d03e7aeebd8f",
   "metadata": {},
   "outputs": [],
   "source": [
    "plt.style.use(\"paper\")\n",
    "plt.style.use(\"egu_journals\")"
   ]
  },
  {
   "cell_type": "code",
   "execution_count": null,
   "id": "45a27436-3ae9-462d-bae4-892d926e7d1b",
   "metadata": {},
   "outputs": [],
   "source": [
    "local_cluster = LocalCluster(n_workers=64, local_directory=\"/tmp\")\n",
    "client = Client(local_cluster)\n",
    "client"
   ]
  },
  {
   "cell_type": "markdown",
   "id": "3d6ca750-2112-4198-b216-fdd67e08d02a",
   "metadata": {},
   "source": [
    "# Load data"
   ]
  },
  {
   "cell_type": "code",
   "execution_count": null,
   "id": "ce9623fa-52e3-4ac4-98c6-eeef88186443",
   "metadata": {},
   "outputs": [],
   "source": [
    "sel_ens = 9\n",
    "sel_time = \"1970-01-02T00:00:00\"\n",
    "sel_seed = 9\n",
    "sel_leadtimes = [\"9 min 52 s\", \"20 min 0 s\", \"30 min 8 s\", \"60 min\"]"
   ]
  },
  {
   "cell_type": "code",
   "execution_count": null,
   "id": "4e379e7b-e301-4068-a99c-55ef15b43e11",
   "metadata": {},
   "outputs": [],
   "source": [
    "ds_hr_nature = xr.open_zarr(f\"../../data/raw/test/hr_nature_forecast/\", chunks={\"time\": -1, \"ensemble\": 1, \"lead_time\": -1}).sel(\n",
    "    lead_time=sel_leadtimes, ensemble=sel_ens, time=sel_time\n",
    ")\n",
    "ds_nature = xr.open_zarr(f\"../../data/raw/test/lr_nature_forecast/\", chunks={\"time\": -1, \"ensemble\": 1, \"lead_time\": -1}).sel(\n",
    "    lead_time=sel_leadtimes, ensemble=sel_ens, time=sel_time\n",
    ")\n",
    "ds_forecast = xr.open_zarr(f\"../../data/raw/test/lr_forecast/\", chunks={\"time\": -1, \"ensemble\": 1, \"lead_time\": -1}).sel(\n",
    "    lead_time=sel_leadtimes, ensemble=sel_ens, time=sel_time\n",
    ")"
   ]
  },
  {
   "cell_type": "code",
   "execution_count": null,
   "id": "a9556245-eb21-4d1a-a2c7-6ee229e96d03",
   "metadata": {},
   "outputs": [],
   "source": [
    "ds_hybrid = xr.open_dataset(\n",
    "    f\"../../data/processed/unext_small/{sel_seed:d}/traj_short/\", engine=\"zarr\",\n",
    "    chunks={\"time\": -1, \"ensemble\": 1, \"lead_time\": -1, \"nMesh2_node\": -1, \"nMesh2_face\": -1}\n",
    ").sel(\n",
    "    lead_time=sel_leadtimes, ensemble=sel_ens, time=sel_time\n",
    ")"
   ]
  },
  {
   "cell_type": "markdown",
   "id": "33e3ba06-6d9a-448e-a28b-0b8d0ebcbf37",
   "metadata": {},
   "source": [
    "# Plot example"
   ]
  },
  {
   "cell_type": "code",
   "execution_count": null,
   "id": "c6dacdcb-f427-4648-a439-b7f3168019e1",
   "metadata": {},
   "outputs": [],
   "source": [
    "hr_grads = estimate_xr_grads(ds_hr_nature)\n",
    "hr_log_deform = np.log10(estimate_deform(hr_grads) * 86400)\n",
    "\n",
    "plt_hr = xr.merge([ds_hr_nature, hr_log_deform])[[\"damage\", \"deform_tot\", \"Mesh2_face_nodes\", \"Mesh2_node_x\", \"Mesh2_node_y\"]].compute()"
   ]
  },
  {
   "cell_type": "code",
   "execution_count": null,
   "id": "bbbb2436-b457-4c42-8e4c-ac929cc401af",
   "metadata": {},
   "outputs": [],
   "source": [
    "fcst_grads = estimate_xr_grads(ds_forecast)\n",
    "fcst_log_deform = np.log10(estimate_deform(fcst_grads) * 86400)\n",
    "\n",
    "plt_fcst = xr.merge([ds_forecast, fcst_log_deform])[[\"damage\", \"deform_tot\", \"Mesh2_face_nodes\", \"Mesh2_node_x\", \"Mesh2_node_y\"]].compute()"
   ]
  },
  {
   "cell_type": "code",
   "execution_count": null,
   "id": "58e6cb5d-3e01-4207-a192-0ad5ab174ebf",
   "metadata": {},
   "outputs": [],
   "source": [
    "hybrid_grads = estimate_xr_grads(ds_hybrid)\n",
    "hybrid_log_deform = np.log10(estimate_deform(hybrid_grads) * 86400)\n",
    "\n",
    "plt_hybrid = xr.merge([ds_hybrid, hybrid_log_deform])[[\"damage\", \"deform_tot\", \"Mesh2_face_nodes\", \"Mesh2_node_x\", \"Mesh2_node_y\"]].compute()"
   ]
  },
  {
   "cell_type": "code",
   "execution_count": null,
   "id": "639f8aa1-24f2-4e94-96b6-321fedd8d177",
   "metadata": {},
   "outputs": [],
   "source": [
    "list_of_plts = [plt_hr, plt_fcst, plt_hybrid]"
   ]
  },
  {
   "cell_type": "code",
   "execution_count": null,
   "id": "8a0b1af2-84ae-4281-a771-8be873d4e1db",
   "metadata": {},
   "outputs": [],
   "source": [
    "fig = plt.figure(figsize=(3, 2.5*len(list_of_plts)/2), dpi=150)\n",
    "\n",
    "subfigs = fig.subfigures(3, 4)\n",
    "for k, ds in enumerate(list_of_plts):\n",
    "    for t in range(4):\n",
    "        curr_ax = subfigs[k, t].subplots(1, 2, sharex=True, sharey=True, gridspec_kw=dict(hspace=0, wspace=0.05, left=0.03, bottom=0.03, top=0.97, right=0.97))\n",
    "        curr_ax[0].set_axis_off()\n",
    "        curr_ax[1].set_axis_off()\n",
    "        curr_plt_dam = curr_ax[0].tripcolor(\n",
    "            ds.sinn.triangulation, 1-ds[\"damage\"].isel(lead_time=t),\n",
    "            vmin=0., vmax=1, cmap=\"cmo.ice_r\", rasterized=True\n",
    "        )\n",
    "        curr_plt_deform = curr_ax[1].tripcolor(\n",
    "            ds.sinn.triangulation, ds[\"deform_tot\"].isel(lead_time=t),\n",
    "            vmin=-3, vmax=0., cmap=\"cmo.thermal\", rasterized=True\n",
    "        )\n",
    "        curr_ax[0].set_xlim(-20000, 20000)\n",
    "        curr_ax[0].set_ylim(-60000, 40000)\n",
    "        \n",
    "\n",
    "subfigs[0, 0].text(0.5, 1., s=\"+10 min\", ha=\"center\", va=\"bottom\", transform=subfigs[0, 0].transSubfigure)\n",
    "subfigs[0, 1].text(0.5, 1., s=\"+20 min\", ha=\"center\", va=\"bottom\", transform=subfigs[0, 1].transSubfigure)\n",
    "subfigs[0, 2].text(0.5, 1., s=\"+30 min\", ha=\"center\", va=\"bottom\", transform=subfigs[0, 2].transSubfigure)\n",
    "subfigs[0, 3].text(0.5, 1., s=\"+60 min\", ha=\"center\", va=\"bottom\", transform=subfigs[0, 3].transSubfigure)\n",
    "\n",
    "subfigs[0, 0].text(0., 0.5, s=\"Truth (4 km)\", ha=\"right\", va=\"center\", transform=subfigs[0, 0].transSubfigure, rotation=90)\n",
    "subfigs[1, 0].text(0., 0.5, s=\"Forecast (8 km)\", ha=\"right\", va=\"center\", transform=subfigs[1, 0].transSubfigure, rotation=90)\n",
    "subfigs[2, 0].text(0., 0.5, s=\"Hybrid (8 km)\", ha=\"right\", va=\"center\", transform=subfigs[2, 0].transSubfigure, rotation=90)\n",
    "\n",
    "\n",
    "ax_cbar = fig.add_axes([1.01, 0.55, 0.02, 0.4])\n",
    "cbar = fig.colorbar(curr_plt_dam, cax=ax_cbar,)\n",
    "cbar.set_label(\"Damage (1)\")\n",
    "\n",
    "ax_cbar = fig.add_axes([1.01, 0.05, 0.02, 0.4])\n",
    "cbar = fig.colorbar(curr_plt_deform, cax=ax_cbar)\n",
    "cbar.set_label(\"$\\log_{10}(\\dot{\\epsilon}_{tot})$\")\n",
    "\n",
    "fig.savefig(\"figures/fig09_case_study.pdf\", dpi=300, bbox_inches='tight', pad_inches = 0)"
   ]
  },
  {
   "cell_type": "code",
   "execution_count": null,
   "id": "e679d24c-6f0b-48c0-b53b-d8584e68f7fe",
   "metadata": {},
   "outputs": [],
   "source": []
  }
 ],
 "metadata": {
  "kernelspec": {
   "display_name": "Python [conda env:subsinn]",
   "language": "python",
   "name": "conda-env-subsinn-py"
  },
  "language_info": {
   "codemirror_mode": {
    "name": "ipython",
    "version": 3
   },
   "file_extension": ".py",
   "mimetype": "text/x-python",
   "name": "python",
   "nbconvert_exporter": "python",
   "pygments_lexer": "ipython3"
  }
 },
 "nbformat": 4,
 "nbformat_minor": 5
}
