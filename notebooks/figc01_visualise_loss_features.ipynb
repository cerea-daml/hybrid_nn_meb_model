{
 "cells": [
  {
   "cell_type": "code",
   "execution_count": null,
   "id": "41009f72-b9c8-4352-a0b4-1eaeead96a02",
   "metadata": {},
   "outputs": [],
   "source": [
    "import sys\n",
    "sys.path.append(\"../../\")\n",
    "\n",
    "import os\n",
    "\n",
    "import numpy as np\n",
    "import xarray as xr\n",
    "\n",
    "from tqdm.notebook import tqdm\n",
    "\n",
    "import torch\n",
    "import torch.nn\n",
    "\n",
    "from hydra import initialize, compose\n",
    "from hydra.utils import instantiate\n",
    "\n",
    "import matplotlib as mpl\n",
    "import matplotlib.pyplot as plt\n",
    "import matplotlib.colors as mpl_colors\n",
    "import matplotlib.gridspec as mpl_gs\n",
    "from matplotlib.patches import Rectangle\n",
    "import cmocean\n",
    "\n",
    "import src_screening.model.accessor\n",
    "from src_screening.datasets import OfflineDataset"
   ]
  },
  {
   "cell_type": "code",
   "execution_count": null,
   "id": "43f5bb0c-3c5f-42d3-b772-87e470e46752",
   "metadata": {},
   "outputs": [],
   "source": [
    "plt.style.use(\"paper\")\n",
    "plt.style.use(\"egu_journals\")"
   ]
  },
  {
   "cell_type": "markdown",
   "id": "7a80316f-b380-4d88-ac33-5ecc3b7260c2",
   "metadata": {},
   "source": [
    "# Load data"
   ]
  },
  {
   "cell_type": "code",
   "execution_count": null,
   "id": "7f28c710-9a15-4f03-98cc-00e5ee884079",
   "metadata": {},
   "outputs": [],
   "source": [
    "dataset = OfflineDataset(\n",
    "    \"../../data/raw/test/dataset/input_normal/\",\n",
    "    \"../../data/raw/test/dataset/target_normal/\",\n",
    ")"
   ]
  },
  {
   "cell_type": "code",
   "execution_count": null,
   "id": "5f4417bc-4d31-4287-b07d-51909fb8210b",
   "metadata": {},
   "outputs": [],
   "source": [
    "template = xr.open_dataset(\"../../data/interim/template_lr.nc\")"
   ]
  },
  {
   "cell_type": "markdown",
   "id": "4a380603-eb4e-4907-a0ea-4908535124d5",
   "metadata": {},
   "source": [
    "## Load model"
   ]
  },
  {
   "cell_type": "code",
   "execution_count": null,
   "id": "7b3bb197-1b0a-43c9-ac12-c7db4c149f7b",
   "metadata": {},
   "outputs": [],
   "source": [
    "def load_model(\n",
    "        model_checkpoint: str,\n",
    ") -> torch.nn.Module:\n",
    "    model_dir = os.path.dirname(model_checkpoint)\n",
    "    with initialize(config_path=os.path.join(model_dir, 'hydra')):\n",
    "        cfg = compose('config.yaml')\n",
    "\n",
    "    try:\n",
    "        cfg[\"model\"][\"backbone\"][\"_target_\"] = 'src_screening.network.backbone.UNextBackbone'\n",
    "        cfg[\"model\"][\"_target_\"] = 'src_screening.network.offline.DeterministicOfflineModel'\n",
    "        cfg[\"model\"][\"backbone\"][\"cartesian_weights_path\"] = \"../../\" + cfg[\"model\"][\"backbone\"][\"cartesian_weights_path\"]\n",
    "        model: torch.nn.Module = instantiate(\n",
    "            cfg.model,\n",
    "            optimizer_config=cfg.optimizer,\n",
    "            _recursive_=False\n",
    "        )\n",
    "    except Exception as e:\n",
    "        cfg[\"network\"][\"backbone\"][\"cartesian_weights_path\"] = \"../../\" + cfg[\"network\"][\"backbone\"][\"cartesian_weights_path\"]\n",
    "        model = instantiate(\n",
    "            cfg.network,\n",
    "            optimizer_config=cfg.optimizer,\n",
    "            _recursive_=False\n",
    "        )        \n",
    "    state_dict = torch.load(model_checkpoint, map_location=torch.device(\"cpu\"))\n",
    "    model.load_state_dict(state_dict[\"state_dict\"], strict=False)\n",
    "    model = model.eval().cpu()\n",
    "    return model"
   ]
  },
  {
   "cell_type": "code",
   "execution_count": null,
   "id": "5147fb16-8fc7-4140-bd6f-eac54393ed8f",
   "metadata": {},
   "outputs": [],
   "source": [
    "network_gaussian = load_model(\"../../data/models_jeanzay/gaussian_nll/0/last.ckpt\")"
   ]
  },
  {
   "cell_type": "code",
   "execution_count": null,
   "id": "698981b7-1298-423f-97f8-066f753ad387",
   "metadata": {},
   "outputs": [],
   "source": [
    "network_laplace = load_model(\"../../data/models_jeanzay/unext_small/0/last.ckpt\")"
   ]
  },
  {
   "cell_type": "markdown",
   "id": "673b5f87-ab16-401d-b9c7-399500a9c8c4",
   "metadata": {},
   "source": [
    "# Get cartesian features"
   ]
  },
  {
   "cell_type": "code",
   "execution_count": null,
   "id": "28495c4d-3f37-4470-b742-a60407eb2c5a",
   "metadata": {},
   "outputs": [],
   "source": [
    "data_loader = torch.utils.data.DataLoader(dataset, batch_size=128)\n",
    "with torch.no_grad():\n",
    "    features_gaussian = []\n",
    "    for chunk in tqdm(data_loader):\n",
    "        predictor_cart = network_gaussian.backbone.to_cartesian(chunk[\"input_nodes\"], chunk[\"input_faces\"])\n",
    "        features_cart = network_gaussian.backbone.get_backbone_prediction(predictor_cart)\n",
    "        features_gaussian.append(network_gaussian.backbone.from_cartesian(features_cart)[1])\n",
    "    features_gaussian = torch.concat(features_gaussian, dim=0)"
   ]
  },
  {
   "cell_type": "code",
   "execution_count": null,
   "id": "b96841b2-c69f-4707-88c8-3223b8cfaa87",
   "metadata": {},
   "outputs": [],
   "source": [
    "data_loader = torch.utils.data.DataLoader(dataset, batch_size=128)\n",
    "with torch.no_grad():\n",
    "    features_laplace = []\n",
    "    for chunk in tqdm(data_loader):\n",
    "        predictor_cart = network_laplace.backbone.to_cartesian(chunk[\"input_nodes\"], chunk[\"input_faces\"])\n",
    "        features_cart = network_laplace.backbone.get_backbone_prediction(predictor_cart)\n",
    "        features_laplace.append(network_laplace.backbone.from_cartesian(features_cart)[1])\n",
    "    features_laplace = torch.concat(features_laplace, dim=0)"
   ]
  },
  {
   "cell_type": "markdown",
   "id": "a5448046-5ac0-4347-ad4f-4027269ebb62",
   "metadata": {},
   "source": [
    "# Plot single feature maps"
   ]
  },
  {
   "cell_type": "code",
   "execution_count": null,
   "id": "b06d32c4-ce6d-40cd-8195-18551fcf5e89",
   "metadata": {},
   "outputs": [],
   "source": [
    "fig, ax = plt.subplots(nrows=4, ncols=32, dpi=60, figsize=(1*32, 5*4), sharex=True, sharey=True)\n",
    "for i in tqdm(range(128)):\n",
    "    ax[i//32, i%32].set_axis_off()\n",
    "    sel_feature = features_gaussian[0, i].numpy()\n",
    "    ax[i//32, i%32].tripcolor(template.sinn.triangulation, sel_feature, cmap=\"cmo.thermal\", vmin=0, vmax=np.quantile(sel_feature, 0.99))\n",
    "ax[0, 0].set_xlim(-20000, 20000)\n",
    "ax[0, 0].set_ylim(-100000, 100000)"
   ]
  },
  {
   "cell_type": "code",
   "execution_count": null,
   "id": "0f331736-ee93-4edf-8b9e-8caa78595efd",
   "metadata": {},
   "outputs": [],
   "source": [
    "fig, ax = plt.subplots(nrows=4, ncols=32, dpi=60, figsize=(1*32, 5*4), sharex=True, sharey=True)\n",
    "for i in tqdm(range(128)):\n",
    "    ax[i//32, i%32].set_axis_off()\n",
    "    sel_feature = features_laplace[0, i].numpy()\n",
    "    ax[i//32, i%32].tripcolor(template.sinn.triangulation, sel_feature, cmap=\"cmo.thermal\", vmin=0, vmax=np.quantile(sel_feature, 0.99))\n",
    "ax[0, 0].set_xlim(-20000, 20000)\n",
    "ax[0, 0].set_ylim(-100000, 100000)"
   ]
  },
  {
   "cell_type": "markdown",
   "id": "528e9eba-ade5-4754-b039-fb17d5df71a9",
   "metadata": {},
   "source": [
    "# Estimation of contrast"
   ]
  },
  {
   "cell_type": "code",
   "execution_count": null,
   "id": "d7bc3856-07a6-4662-8d49-2891b4f05058",
   "metadata": {},
   "outputs": [],
   "source": [
    "contrast_gaussian = (features_gaussian.std(dim=-1))/(features_gaussian.mean(dim=-1))\n",
    "contrast_laplace = (features_laplace.std(dim=-1))/(features_laplace.mean(dim=-1))"
   ]
  },
  {
   "cell_type": "code",
   "execution_count": null,
   "id": "a95f2cb6-ed55-4415-8251-0058cb1957d3",
   "metadata": {},
   "outputs": [],
   "source": [
    "nonzero_gaussian = features_gaussian.mean(dim=-1) > 0\n",
    "nonzero_laplace = features_laplace.mean(dim=-1) > 0"
   ]
  },
  {
   "cell_type": "code",
   "execution_count": null,
   "id": "46200676-008a-46c2-ab52-59590ff5891b",
   "metadata": {},
   "outputs": [],
   "source": [
    "contrast_gaussian = contrast_gaussian[nonzero_gaussian]\n",
    "contrast_laplace = contrast_laplace[nonzero_laplace]"
   ]
  },
  {
   "cell_type": "markdown",
   "id": "c5274c0a-9f8c-4966-8d76-d2effc0a3f27",
   "metadata": {},
   "source": [
    "# Plot"
   ]
  },
  {
   "cell_type": "code",
   "execution_count": null,
   "id": "9015436f-783c-48bb-b9e4-920f9a4f2734",
   "metadata": {},
   "outputs": [],
   "source": [
    "np.median(contrast_gaussian)"
   ]
  },
  {
   "cell_type": "code",
   "execution_count": null,
   "id": "40f72ba5-e087-4bff-9496-f846757b089d",
   "metadata": {},
   "outputs": [],
   "source": [
    "np.median(contrast_laplace)"
   ]
  },
  {
   "cell_type": "code",
   "execution_count": null,
   "id": "11f697f9-d7b7-45dd-93be-950b46aeb02e",
   "metadata": {},
   "outputs": [],
   "source": [
    "fig = plt.figure(figsize=(5, 5.5), dpi=150)\n",
    "gs = mpl_gs.GridSpec(nrows=5, ncols=1, hspace=0.05)\n",
    "\n",
    "ax_gaussian = fig.add_subplot(gs[0, :])\n",
    "ax_gaussian.set_axis_off()\n",
    "sel_gaussian = features_gaussian[0, 40].numpy()\n",
    "norm_gaussian = np.quantile(sel_gaussian, 0.99)\n",
    "plt_gaussian = ax_gaussian.tripcolor(\n",
    "    template.sinn.triangulation, sel_gaussian / norm_gaussian,\n",
    "    cmap=\"cmo.thermal\", vmin=0, vmax=1, rasterized=True\n",
    ")\n",
    "t2 = mpl.transforms.Affine2D().rotate_deg(-90) + ax_gaussian.transData\n",
    "plt_gaussian.set_transform(t2)\n",
    "ax_gaussian.text(0.01, 0.98, s=\"(a)\", ha=\"left\", va=\"top\", transform=ax_gaussian.transAxes, fontsize=10, color=\"white\")\n",
    "ax_gaussian.text(0.99, 0.98, s=\"Gaussian\", ha=\"right\", va=\"top\", transform=ax_gaussian.transAxes, fontsize=10, color=\"white\")\n",
    "ax_gaussian.text(0.92, 0.25, s=f\"$\\mu={(sel_gaussian / norm_gaussian).mean():.2f}$\", ha=\"center\", va=\"bottom\", transform=ax_gaussian.transAxes, color=\"white\")\n",
    "ax_gaussian.text(0.92, 0.05, s=f\"$\\sigma={(sel_gaussian / norm_gaussian).std(ddof=1):.2f}$\", ha=\"center\", va=\"bottom\", transform=ax_gaussian.transAxes, color=\"white\")\n",
    "\n",
    "ax_laplace = fig.add_subplot(gs[1, :], sharex=ax_gaussian, sharey=ax_gaussian)\n",
    "ax_laplace.set_axis_off()\n",
    "sel_laplace = features_laplace[0, 49].numpy()\n",
    "norm_laplace = np.quantile(sel_laplace, 0.99)\n",
    "plt_laplace = ax_laplace.tripcolor(\n",
    "    template.sinn.triangulation, sel_laplace/norm_laplace,\n",
    "    cmap=\"cmo.thermal\", vmin=0, vmax=1, rasterized=True\n",
    ")\n",
    "t2 = mpl.transforms.Affine2D().rotate_deg(-90) + ax_laplace.transData\n",
    "plt_laplace.set_transform(t2)\n",
    "\n",
    "ax_laplace.text(0.01, 0.98, s=\"(b)\", ha=\"left\", va=\"top\", transform=ax_laplace.transAxes, fontsize=10, color=\"white\")\n",
    "ax_laplace.text(0.99, 0.98, s=\"Laplace\", ha=\"right\", va=\"top\", transform=ax_laplace.transAxes, fontsize=10, color=\"white\")\n",
    "ax_laplace.text(0.92, 0.25, s=f\"$\\mu={(sel_laplace/norm_laplace).mean():.2f}$\", ha=\"center\", va=\"bottom\", transform=ax_laplace.transAxes, color=\"white\")\n",
    "ax_laplace.text(0.92, 0.05, s=f\"$\\sigma={(sel_laplace/norm_laplace).std(ddof=1):.2f}$\", ha=\"center\", va=\"bottom\", transform=ax_laplace.transAxes, color=\"white\")\n",
    "ax_laplace.set_xlim(-100000, 100000)\n",
    "ax_laplace.set_ylim(-20000, 20000)\n",
    "\n",
    "\n",
    "ax_cbar = fig.add_axes([1, 0.652, 0.02, 0.318])\n",
    "norm = mpl_colors.Normalize(vmin=0, vmax=1)\n",
    "cbar = mpl.colorbar.ColorbarBase(ax_cbar, cmap=\"cmo.thermal\", norm=norm, label=\"Normalised activation\", orientation=\"vertical\")\n",
    "#ax_cbar.xaxis.set_ticks_position('right')\n",
    "#ax_cbar.xaxis.set_label_position('right')\n",
    "\n",
    "bins = np.linspace(-0.05, 19.95, 201)\n",
    "\n",
    "ax_hist = fig.add_subplot(gs[2:, :])\n",
    "hist_gauss = ax_hist.hist(\n",
    "    contrast_gaussian.numpy().flatten(),\n",
    "    bins=bins,\n",
    "    histtype=\"stepfilled\", edgecolor=\"#8F0685\",\n",
    "    facecolor=mpl_colors.to_rgba(\"#8F0685\", 0.3),\n",
    "    lw=1, cumulative=True, density=True\n",
    ")\n",
    "ax_hist.hist(\n",
    "    contrast_laplace.numpy().flatten(),\n",
    "    bins=bins,\n",
    "    histtype=\"stepfilled\", edgecolor=\"#6EC940\",\n",
    "    facecolor=mpl_colors.to_rgba(\"#6EC940\", 0.3),\n",
    "    lw=1, cumulative=True, density=True\n",
    ")\n",
    "\n",
    "ax_hist.bar(\n",
    "    -2.5, (~nonzero_gaussian).sum()/(nonzero_gaussian).sum(),\n",
    "    width=0.3,\n",
    "    edgecolor=\"#8F0685\",\n",
    "    facecolor=mpl_colors.to_rgba(\"#8F0685\", 0.3),\n",
    "    lw=1\n",
    ")\n",
    "ax_hist.bar(\n",
    "    -2.5, (~nonzero_laplace).sum()/(nonzero_laplace).sum(),\n",
    "    width=0.3,\n",
    "    edgecolor=\"#6EC940\",\n",
    "    facecolor=mpl_colors.to_rgba(\"#6EC940\", 0.3),\n",
    "    lw=1\n",
    ")\n",
    "\n",
    "ax_hist.set_xlim(-2.9, 18)\n",
    "ax_hist.set_xticks([-2.5] + list(np.arange(0, 20, 2.5)))\n",
    "ax_hist.set_xticklabels([\"inactive\"] + list(np.arange(0, 20, 2.5)))\n",
    "ax_hist.set_xlabel(\"Contrast of activations ($\\sigma$/$\\mu$)\")\n",
    "\n",
    "#hist_ticks = np.linspace(0, 0.75, 4)\n",
    "#ax_hist.set_yticks(hist_ticks*norm_factor)\n",
    "#ax_hist.set_yticklabels(hist_ticks)\n",
    "#ax_hist.set_ylabel(\"Count density\")\n",
    "#ax_hist.set_ylim(0, norm_factor)\n",
    "\n",
    "handles = [\n",
    "    Rectangle((0,0), 1, 1, facecolor=mpl_colors.to_rgba(\"#8F0685\", 0.3), edgecolor=\"#8F0685\", lw=1),\n",
    "    Rectangle((0,0), 1, 1, facecolor=mpl_colors.to_rgba(\"#6EC940\", 0.3), edgecolor=\"#6EC940\", lw=1)\n",
    "]\n",
    "ax_hist.legend(handles=handles, labels=[\"Gaussian\", \"Laplace\"], loc=2, bbox_to_anchor=(0.02, 0.95))\n",
    "ax_hist.text(x=0.005, y=1-0.025/3, s=\"(c)\", ha=\"left\", va=\"top\", transform=ax_hist.transAxes)\n",
    "\n",
    "ax_hist.set_ylabel(\"CDF\")\n",
    "\n",
    "fig.savefig(\"figures/figc01_loss_features.pdf\", bbox_inches='tight', pad_inches = 0, dpi=300)"
   ]
  },
  {
   "cell_type": "code",
   "execution_count": null,
   "id": "cb07ea49-36b6-4db2-adc5-668b07157406",
   "metadata": {},
   "outputs": [],
   "source": []
  }
 ],
 "metadata": {
  "kernelspec": {
   "display_name": "Python [conda env:subsinn]",
   "language": "python",
   "name": "conda-env-subsinn-py"
  },
  "language_info": {
   "codemirror_mode": {
    "name": "ipython",
    "version": 3
   },
   "file_extension": ".py",
   "mimetype": "text/x-python",
   "name": "python",
   "nbconvert_exporter": "python",
   "pygments_lexer": "ipython3"
  }
 },
 "nbformat": 4,
 "nbformat_minor": 5
}
