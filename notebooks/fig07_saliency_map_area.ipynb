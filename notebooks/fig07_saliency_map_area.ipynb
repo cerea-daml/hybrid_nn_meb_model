{
 "cells": [
  {
   "cell_type": "code",
   "execution_count": null,
   "id": "39c9a4af-c4ec-4306-aad2-e3c6799837da",
   "metadata": {},
   "outputs": [],
   "source": [
    "import sys\n",
    "sys.path.append(\"../../\")\n",
    "\n",
    "import os\n",
    "\n",
    "import numpy as np\n",
    "import xarray as xr\n",
    "\n",
    "from tqdm.notebook import tqdm\n",
    "\n",
    "import torch\n",
    "import torch.nn\n",
    "from torch.autograd.functional import jacobian\n",
    "\n",
    "from hydra import initialize, compose\n",
    "from hydra.utils import instantiate\n",
    "\n",
    "import matplotlib as mpl\n",
    "import matplotlib.pyplot as plt\n",
    "import matplotlib.colors as mpl_colors\n",
    "import matplotlib.gridspec as mpl_gs\n",
    "from matplotlib.patches import Rectangle\n",
    "import cmocean\n",
    "import cmcrameri\n",
    "\n",
    "import src_screening.model.accessor\n",
    "from src_screening.datasets import OfflineDataset"
   ]
  },
  {
   "cell_type": "code",
   "execution_count": null,
   "id": "df3ac61b-90e4-4c43-a657-7ddea5b0398b",
   "metadata": {},
   "outputs": [],
   "source": [
    "plt.style.use(\"paper\")\n",
    "plt.style.use(\"egu_journals\")"
   ]
  },
  {
   "cell_type": "markdown",
   "id": "156657b6-794f-44cb-8c56-557835abfdd3",
   "metadata": {},
   "source": [
    "# Load data"
   ]
  },
  {
   "cell_type": "code",
   "execution_count": null,
   "id": "08d8009d-1356-47c0-9bb6-4240db70c728",
   "metadata": {},
   "outputs": [],
   "source": [
    "dataset = OfflineDataset(\n",
    "    input_path=\"../../data/raw/test/dataset/input_difference/\",\n",
    "    target_path=\"../../data/raw/test/dataset/target_normal/\"\n",
    ")"
   ]
  },
  {
   "cell_type": "code",
   "execution_count": null,
   "id": "72836eaf-2cb5-4c82-84bb-374df8d930ff",
   "metadata": {},
   "outputs": [],
   "source": [
    "climatology = {\n",
    "    \"mean\": xr.open_dataset(\"../../data/raw/train/climatology/input_difference_mean.nc\",),\n",
    "    \"std\": xr.open_dataset(\"../../data/raw/train/climatology/input_difference_std.nc\",)\n",
    "}"
   ]
  },
  {
   "cell_type": "code",
   "execution_count": null,
   "id": "00d0083c-c982-42e6-a1a6-f4849ae2b405",
   "metadata": {},
   "outputs": [],
   "source": [
    "template = xr.open_dataset(\"../../data/interim/template_lr.nc\")"
   ]
  },
  {
   "cell_type": "markdown",
   "id": "df8185af-348f-4c5a-a707-9dd4831c3ae1",
   "metadata": {},
   "source": [
    "## Load model"
   ]
  },
  {
   "cell_type": "code",
   "execution_count": null,
   "id": "a1ed5809-a9ae-4133-85a5-47f5a69eb46c",
   "metadata": {},
   "outputs": [],
   "source": [
    "def load_model(\n",
    "        model_checkpoint: str,\n",
    ") -> torch.nn.Module:\n",
    "    model_dir = os.path.dirname(model_checkpoint)\n",
    "    with initialize(config_path=os.path.join(model_dir, 'hydra')):\n",
    "        cfg = compose('config.yaml')\n",
    "    if \"model\" in cfg.keys():\n",
    "        cfg[\"model\"][\"_target_\"] = cfg[\"model\"][\"_target_\"].replace(\n",
    "            \".model.\", \".network.\"\n",
    "        )\n",
    "        cfg[\"model\"][\"backbone\"][\"_target_\"] = cfg[\"model\"][\"backbone\"][\"_target_\"].replace(\n",
    "            \".model.\", \".network.\"\n",
    "        )\n",
    "        cfg[\"model\"][\"backbone\"][\"cartesian_weights_path\"] = \"../../\" + cfg[\"model\"][\"backbone\"][\"cartesian_weights_path\"]\n",
    "        model = instantiate(\n",
    "            cfg.model,\n",
    "            optimizer_config=cfg.optimizer,\n",
    "            _recursive_=False\n",
    "        )\n",
    "    else:\n",
    "        cfg[\"network\"][\"backbone\"][\"cartesian_weights_path\"] = \"../../\" + cfg[\"network\"][\"backbone\"][\"cartesian_weights_path\"]\n",
    "        model = instantiate(\n",
    "            cfg.network,\n",
    "            optimizer_config=cfg.optimizer,\n",
    "            _recursive_=False\n",
    "        )    \n",
    "    state_dict = torch.load(model_checkpoint, map_location=torch.device(\"cpu\"))\n",
    "    model.load_state_dict(state_dict[\"state_dict\"], strict=False)\n",
    "    model = model.eval().cpu()\n",
    "    model = model.requires_grad_(False)\n",
    "    return model"
   ]
  },
  {
   "cell_type": "code",
   "execution_count": null,
   "id": "0de0d0bf-e102-4ac5-bd67-264b9992e7ed",
   "metadata": {},
   "outputs": [],
   "source": [
    "network = load_model(\"../../data/models_jeanzay/input_difference/9/last.ckpt\").cuda()"
   ]
  },
  {
   "cell_type": "markdown",
   "id": "b04facca-288d-420e-b260-3f1e89d4061d",
   "metadata": {},
   "source": [
    "# Estimate saliency maps"
   ]
  },
  {
   "cell_type": "code",
   "execution_count": null,
   "id": "3ccb1820-61b7-47ef-9285-94ae8826610c",
   "metadata": {},
   "outputs": [],
   "source": [
    "input_nodes = dataset[0][\"input_nodes\"].cuda()[None, ...]\n",
    "input_faces = dataset[0][\"input_faces\"].cuda()[None, ...]"
   ]
  },
  {
   "cell_type": "code",
   "execution_count": null,
   "id": "c42f84b0-1e29-42d0-8dc9-3c82f4a8a7e0",
   "metadata": {},
   "outputs": [],
   "source": [
    "pred_nodes, pred_faces = network(input_nodes, input_faces)"
   ]
  },
  {
   "cell_type": "code",
   "execution_count": null,
   "id": "81799dfd-e512-4b41-b2e1-3e438efa1fb9",
   "metadata": {},
   "outputs": [],
   "source": [
    "idx_q95 = 266"
   ]
  },
  {
   "cell_type": "code",
   "execution_count": null,
   "id": "9cbb707d-8130-42db-b6d8-6da262bb26ae",
   "metadata": {},
   "outputs": [],
   "source": [
    "def get_reduced_prediction(*args):\n",
    "    pred_nodes, pred_faces = network(*args)\n",
    "    reduced_faces = pred_faces[:, 5, idx_q95]\n",
    "    return reduced_faces.sum(dim=0)"
   ]
  },
  {
   "cell_type": "code",
   "execution_count": null,
   "id": "5065f474-9549-4b9a-9a3b-ea3783111bda",
   "metadata": {},
   "outputs": [],
   "source": [
    "input_nodes_noise = torch.randn(128, *input_nodes.shape, device=input_nodes.device)\n",
    "input_faces_noise = torch.randn(128, *input_faces.shape, device=input_nodes.device)\n",
    "\n",
    "input_nodes = input_nodes + input_nodes_noise * 0.1\n",
    "input_faces = input_faces + input_faces_noise * 0.1\n",
    "\n",
    "input_nodes = input_nodes.view(-1, 6, 187)\n",
    "input_faces = input_faces.view(-1, 14, 312)"
   ]
  },
  {
   "cell_type": "code",
   "execution_count": null,
   "id": "531c0c57-5f5f-41a3-a4d8-f54234d57f4a",
   "metadata": {},
   "outputs": [],
   "source": [
    "jac_nodes, jac_faces = jacobian(\n",
    "    get_reduced_prediction, (input_nodes, input_faces)\n",
    ")"
   ]
  },
  {
   "cell_type": "code",
   "execution_count": null,
   "id": "ab3d9436-ea2a-49ca-99b3-5109cc9aac36",
   "metadata": {},
   "outputs": [],
   "source": [
    "plot_nodes = jac_nodes.mean(dim=0).cpu()\n",
    "plot_faces = jac_faces.mean(dim=0).cpu()"
   ]
  },
  {
   "cell_type": "markdown",
   "id": "b414926d-05a3-4ad8-8f7b-00a424042b09",
   "metadata": {},
   "source": [
    "# Plot grad vals"
   ]
  },
  {
   "cell_type": "markdown",
   "id": "573281af-79dd-429d-8426-4e6179c7b797",
   "metadata": {},
   "source": [
    "# Reduced figure for main"
   ]
  },
  {
   "cell_type": "code",
   "execution_count": null,
   "id": "dc403ad5-7ef9-4eb4-bcab-2cea596baf71",
   "metadata": {},
   "outputs": [],
   "source": [
    "fig, ax = plt.subplots(ncols=11, figsize=(6.5, 1.2), dpi=300, sharex=True, sharey=True)\n",
    "fig.subplots_adjust(wspace=0.04)\n",
    "\n",
    "[curr_ax.set_axis_off() for curr_ax in ax]\n",
    "ax[0].tripcolor(template.sinn.triangulation, pred_faces.mean(dim=0).cpu()[5], cmap=\"cmo.balance\", vmin=-2, vmax=2, rasterized=True)\n",
    "ax[0].text(x=0.5, y=1.02, s=r\"$f(\\mathbf{x})$\", ha=\"center\", va=\"bottom\", transform=ax[0].transAxes)\n",
    "ax[0].text(x=0.05, y=0.9, s=f\"(a) A\", ha=\"left\", va=\"center\", transform=ax[0].transAxes)\n",
    "ax[0].scatter(template.Mesh2_face_x[idx_q95], template.Mesh2_face_y[idx_q95], marker=\".\", color=\"white\", s=8)\n",
    "\n",
    "fig.add_artist(mpl.lines.Line2D([1.025, 1.025], [-0.2, 1.05], transform=ax[0].transAxes, c=\"black\"))\n",
    "\n",
    "norm = mpl_colors.SymLogNorm(0.05, 0.2, vmin=-3, vmax=3)\n",
    "\n",
    "plt_sal = ax[1].tripcolor(template.sinn.triangulation, plot_nodes[1].numpy(), cmap=\"cmo.balance\", norm=norm, rasterized=True)\n",
    "ax[1].text(x=0.05, y=0.9, s=f\"(b) v\", ha=\"left\", va=\"center\", transform=ax[1].transAxes)\n",
    "ax[1].scatter(template.Mesh2_face_x[idx_q95], template.Mesh2_face_y[idx_q95], marker=\".\", color=\"black\", s=8)\n",
    "\n",
    "ax[2].tripcolor(template.sinn.triangulation, plot_faces[2].numpy(), cmap=\"cmo.balance\", norm=norm, rasterized=True)\n",
    "ax[2].text(x=0.05, y=0.9, s=\"(c) $\\sigma_{yy}$\", ha=\"left\", va=\"center\", transform=ax[2].transAxes)\n",
    "ax[2].scatter(template.Mesh2_face_x[idx_q95], template.Mesh2_face_y[idx_q95], marker=\".\", color=\"black\", s=8)\n",
    "\n",
    "ax[3].tripcolor(template.sinn.triangulation, plot_faces[3].numpy(), cmap=\"cmo.balance\", norm=norm, rasterized=True)\n",
    "ax[3].text(x=0.05, y=0.9, s=\"(d) d\", ha=\"left\", va=\"center\", transform=ax[3].transAxes)\n",
    "ax[3].scatter(template.Mesh2_face_x[idx_q95], template.Mesh2_face_y[idx_q95], marker=\".\", color=\"black\", s=8)\n",
    "\n",
    "ax[4].tripcolor(template.sinn.triangulation, plot_faces[5].numpy(), cmap=\"cmo.balance\", norm=norm, rasterized=True)\n",
    "ax[4].text(x=0.05, y=0.9, s=\"(e) A\", ha=\"left\", va=\"center\", transform=ax[4].transAxes)\n",
    "ax[4].scatter(template.Mesh2_face_x[idx_q95], template.Mesh2_face_y[idx_q95], marker=\".\", color=\"white\", s=8)\n",
    "\n",
    "ax[5].tripcolor(template.sinn.triangulation, plot_faces[6].numpy(), cmap=\"cmo.balance\", norm=norm, rasterized=True)\n",
    "ax[5].text(x=0.05, y=0.9, s=\"(f) h\", ha=\"left\", va=\"center\", transform=ax[5].transAxes)\n",
    "ax[5].scatter(template.Mesh2_face_x[idx_q95], template.Mesh2_face_y[idx_q95], marker=\".\", color=\"white\", s=8)\n",
    "\n",
    "ax[3].text(x=0.05, y=1.02, s=\"Initial: $\\mathbf{x}_{0}$\", ha=\"center\", va=\"bottom\", transform=ax[3].transAxes)\n",
    "fig.add_artist(mpl.lines.Line2D([1.025, 1.025], [0, 1.05], transform=ax[5].transAxes, c=\"black\"))\n",
    "\n",
    "ax[6].tripcolor(template.sinn.triangulation, plot_nodes[4].numpy(), cmap=\"cmo.balance\", norm=norm, rasterized=True)\n",
    "ax[6].text(x=0.05, y=0.9, s=f\"(g) v\", ha=\"left\", va=\"center\", transform=ax[6].transAxes)\n",
    "ax[6].scatter(template.Mesh2_face_x[idx_q95], template.Mesh2_face_y[idx_q95], marker=\".\", color=\"black\", s=8)\n",
    "\n",
    "ax[7].tripcolor(template.sinn.triangulation, plot_faces[9].numpy(), cmap=\"cmo.balance\", norm=norm, rasterized=True)\n",
    "ax[7].text(x=0.05, y=0.9, s=\"(h) $\\sigma_{yy}$\", ha=\"left\", va=\"center\", transform=ax[7].transAxes)\n",
    "ax[7].scatter(template.Mesh2_face_x[idx_q95], template.Mesh2_face_y[idx_q95], marker=\".\", color=\"black\", s=8)\n",
    "\n",
    "ax[8].tripcolor(template.sinn.triangulation, plot_faces[10].numpy(), cmap=\"cmo.balance\", norm=norm, rasterized=True)\n",
    "ax[8].text(x=0.05, y=0.9, s=f\"(i) D\", ha=\"left\", va=\"center\", transform=ax[8].transAxes)\n",
    "ax[8].scatter(template.Mesh2_face_x[idx_q95], template.Mesh2_face_y[idx_q95], marker=\".\", color=\"white\", s=8)\n",
    "\n",
    "ax[9].tripcolor(template.sinn.triangulation, plot_faces[12].numpy(), cmap=\"cmo.balance\", norm=norm, rasterized=True)\n",
    "ax[9].text(x=0.05, y=0.9, s=f\"(j) A\", ha=\"left\", va=\"center\", transform=ax[9].transAxes)\n",
    "ax[9].scatter(template.Mesh2_face_x[idx_q95], template.Mesh2_face_y[idx_q95], marker=\".\", color=\"white\", s=8)\n",
    "\n",
    "ax[10].tripcolor(template.sinn.triangulation, plot_faces[13].numpy(), cmap=\"cmo.balance\", norm=norm, rasterized=True)\n",
    "ax[10].text(x=0.05, y=0.9, s=f\"(k) h\", ha=\"left\", va=\"center\", transform=ax[10].transAxes)\n",
    "ax[10].scatter(template.Mesh2_face_x[idx_q95], template.Mesh2_face_y[idx_q95], marker=\".\", color=\"white\", s=8)\n",
    "\n",
    "ax[8].text(x=0.5, y=1.02, s=\"Difference: $\\Delta \\mathbf{x} = \\mathbf{x}_{1} - \\mathbf{x}_{0}$\", ha=\"center\", va=\"bottom\", transform=ax[8].transAxes)\n",
    "\n",
    "\n",
    "ax[0].set_xlim(-20000, 20000)\n",
    "ax[0].set_ylim(-80000, 0)\n",
    "\n",
    "\n",
    "ax_cbar = fig.add_axes([0.2514, 0.1, 0.715, 0.03])\n",
    "cbar = fig.colorbar(plt_sal, cax=ax_cbar, orientation=\"horizontal\")\n",
    "cbar.set_label(r\"Sensitivity: $\\partial f(\\mathbf{x})/\\partial \\mathbf{x}$\")\n",
    "cbar.set_ticks([-0.5, -0.1, 0, 0.1, 0.5])\n",
    "cbar.set_ticklabels([-0.5, -0.1, 0, 0.1, 0.5])\n",
    "ax_cbar.set_xlim(-1, 1)\n",
    "ax_cbar.minorticks_off()\n",
    "\n",
    "\n",
    "fig.savefig(\"figures/fig07_saliency_map_area.pdf\", dpi=300, bbox_inches=\"tight\", pad_inches=0.0)"
   ]
  },
  {
   "cell_type": "code",
   "execution_count": null,
   "id": "d9d5f131-e5e4-4a8d-8b9e-8cd8905d4065",
   "metadata": {},
   "outputs": [],
   "source": []
  }
 ],
 "metadata": {
  "kernelspec": {
   "display_name": "Python [conda env:subsinn]",
   "language": "python",
   "name": "conda-env-subsinn-py"
  },
  "language_info": {
   "codemirror_mode": {
    "name": "ipython",
    "version": 3
   },
   "file_extension": ".py",
   "mimetype": "text/x-python",
   "name": "python",
   "nbconvert_exporter": "python",
   "pygments_lexer": "ipython3"
  }
 },
 "nbformat": 4,
 "nbformat_minor": 5
}
