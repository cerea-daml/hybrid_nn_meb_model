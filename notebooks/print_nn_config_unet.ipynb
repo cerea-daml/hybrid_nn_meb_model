{
 "cells": [
  {
   "cell_type": "code",
   "execution_count": 1,
   "id": "00314d60-f7b9-4e45-bcf0-ea6f3229508b",
   "metadata": {},
   "outputs": [],
   "source": [
    "import sys\n",
    "sys.path.append(\"../..\")\n",
    "import os.path\n",
    "\n",
    "from hydra import initialize, compose\n",
    "from hydra.utils import instantiate\n",
    "\n",
    "from pytorch_lightning.callbacks import ModelSummary\n",
    "from pytorch_lightning import Trainer\n",
    "\n",
    "import torch"
   ]
  },
  {
   "cell_type": "code",
   "execution_count": 2,
   "id": "0aec3bc1-837a-4f53-8fb8-46058ef23388",
   "metadata": {
    "tags": []
   },
   "outputs": [],
   "source": [
    "def load_model(\n",
    "        model_checkpoint: str,\n",
    ") -> torch.nn.Module:\n",
    "    model_dir = os.path.dirname(model_checkpoint)\n",
    "    with initialize(config_path=os.path.join(model_dir, 'hydra')):\n",
    "        cfg = compose('config.yaml')\n",
    "    if \"model\" in cfg.keys():\n",
    "        cfg[\"model\"][\"_target_\"] = cfg[\"model\"][\"_target_\"].replace(\n",
    "            \".model.\", \".network.\"\n",
    "        )\n",
    "        cfg[\"model\"][\"backbone\"][\"_target_\"] = cfg[\"model\"][\"backbone\"][\"_target_\"].replace(\n",
    "            \".model.\", \".network.\"\n",
    "        )\n",
    "        cfg[\"model\"][\"backbone\"][\"cartesian_weights_path\"] = \"../../\" + cfg[\"model\"][\"backbone\"][\"cartesian_weights_path\"]\n",
    "        model = instantiate(\n",
    "            cfg.model,\n",
    "            optimizer_config=cfg.optimizer,\n",
    "            _recursive_=False\n",
    "        )\n",
    "    else:\n",
    "        cfg[\"network\"][\"backbone\"][\"cartesian_weights_path\"] = \"../../\" + cfg[\"network\"][\"backbone\"][\"cartesian_weights_path\"]\n",
    "        model = instantiate(\n",
    "            cfg.network,\n",
    "            optimizer_config=cfg.optimizer,\n",
    "            _recursive_=False\n",
    "        )    \n",
    "    state_dict = torch.load(model_checkpoint, map_location=torch.device(\"cpu\"))\n",
    "    model.load_state_dict(state_dict[\"state_dict\"], strict=False)\n",
    "    model = model.eval().cpu()\n",
    "    model = model.requires_grad_(False)\n",
    "    return model"
   ]
  },
  {
   "cell_type": "code",
   "execution_count": 3,
   "id": "b6d8c858-8c7a-46db-a86d-13a6ca8b839a",
   "metadata": {},
   "outputs": [
    {
     "name": "stderr",
     "output_type": "stream",
     "text": [
      "/tmp/ipykernel_989623/4017227567.py:5: UserWarning: \n",
      "The version_base parameter is not specified.\n",
      "Please specify a compatability version level, or None.\n",
      "Will assume defaults for version 1.1\n",
      "  with initialize(config_path=os.path.join(model_dir, 'hydra')):\n"
     ]
    }
   ],
   "source": [
    "network = load_model(\"../../data/models_jeanzay/unet_small/9/last.ckpt\")"
   ]
  },
  {
   "cell_type": "code",
   "execution_count": 4,
   "id": "f3f2e9ad-f225-4844-8df7-50034f6d0a46",
   "metadata": {},
   "outputs": [
    {
     "name": "stderr",
     "output_type": "stream",
     "text": [
      "/cerea_raid/users/finnt/usr/miniconda3/envs/subsinn/lib/python3.9/site-packages/pytorch_lightning/loops/utilities.py:91: PossibleUserWarning: `max_epochs` was not set. Setting it to 1000 epochs. To train without an epoch limit, set `max_epochs=-1`.\n",
      "  rank_zero_warn(\n",
      "GPU available: True, used: False\n",
      "TPU available: False, using: 0 TPU cores\n",
      "IPU available: False, using: 0 IPUs\n",
      "HPU available: False, using: 0 HPUs\n",
      "/cerea_raid/users/finnt/usr/miniconda3/envs/subsinn/lib/python3.9/site-packages/pytorch_lightning/trainer/trainer.py:1812: PossibleUserWarning: GPU available but not used. Set `accelerator` and `devices` using `Trainer(accelerator='gpu', devices=1)`.\n",
      "  rank_zero_warn(\n"
     ]
    }
   ],
   "source": [
    "summary = ModelSummary(max_depth=5)\n",
    "trainer = Trainer()\n",
    "summary.on_fit_start(trainer, network)"
   ]
  },
  {
   "cell_type": "code",
   "execution_count": 6,
   "id": "30f12a7a-aa4b-4389-a0ad-9d261eb63d67",
   "metadata": {},
   "outputs": [
    {
     "name": "stdout",
     "output_type": "stream",
     "text": [
      "3713536\n"
     ]
    }
   ],
   "source": [
    "print(sum(p.numel() for p in network.backbone.parameters()))"
   ]
  },
  {
   "cell_type": "code",
   "execution_count": 7,
   "id": "ee244509-4bad-4bcc-92f2-f0f7040e3448",
   "metadata": {},
   "outputs": [
    {
     "name": "stdout",
     "output_type": "stream",
     "text": [
      "23296\n",
      "295424\n",
      "590336\n",
      "590336\n",
      "590336\n",
      "BN: 590336\n",
      "295168\n",
      "295168\n",
      "147712\n",
      "147712\n",
      "147712\n"
     ]
    }
   ],
   "source": [
    "print(sum(p.numel() for p in network.backbone.init_layer.parameters()))\n",
    "print(sum(p.numel() for p in network.backbone.down_layers[0].pooling.parameters()))\n",
    "print(sum(p.numel() for p in network.backbone.down_layers[0].out_layer[0].parameters()))\n",
    "print(sum(p.numel() for p in network.backbone.down_layers[0].out_layer[1].parameters()))\n",
    "print(sum(p.numel() for p in network.backbone.down_layers[0].out_layer[2].parameters()))\n",
    "print(\"BN:\", sum(p.numel() for p in network.backbone.bottleneck_layer.parameters()))\n",
    "print(sum(p.numel() for p in network.backbone.up_layers[0].upscaling.parameters()))\n",
    "print(sum(p.numel() for p in network.backbone.up_layers[0].out_layer[0].parameters()))\n",
    "print(sum(p.numel() for p in network.backbone.up_layers[0].out_layer[1].parameters()))\n",
    "print(sum(p.numel() for p in network.backbone.up_layers[0].out_layer[2].parameters()))\n",
    "print(sum(p.numel() for p in network.backbone.out_layer.parameters()))"
   ]
  },
  {
   "cell_type": "code",
   "execution_count": null,
   "id": "bb2777a3-d7fb-4cd7-a9fd-59901167a9f1",
   "metadata": {},
   "outputs": [],
   "source": []
  }
 ],
 "metadata": {
  "kernelspec": {
   "display_name": "Python [conda env:subsinn]",
   "language": "python",
   "name": "conda-env-subsinn-py"
  },
  "language_info": {
   "codemirror_mode": {
    "name": "ipython",
    "version": 3
   },
   "file_extension": ".py",
   "mimetype": "text/x-python",
   "name": "python",
   "nbconvert_exporter": "python",
   "pygments_lexer": "ipython3",
   "version": "3.9.12"
  }
 },
 "nbformat": 4,
 "nbformat_minor": 5
}
