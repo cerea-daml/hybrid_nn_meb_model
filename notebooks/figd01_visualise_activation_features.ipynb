{
 "cells": [
  {
   "cell_type": "code",
   "execution_count": null,
   "id": "41009f72-b9c8-4352-a0b4-1eaeead96a02",
   "metadata": {},
   "outputs": [],
   "source": [
    "import sys\n",
    "sys.path.append(\"../../\")\n",
    "\n",
    "import os\n",
    "\n",
    "import numpy as np\n",
    "import xarray as xr\n",
    "import scipy.stats\n",
    "\n",
    "from tqdm.notebook import tqdm\n",
    "\n",
    "import torch\n",
    "import torch.nn\n",
    "from torch.distributions import Cauchy\n",
    "\n",
    "from hydra import initialize, compose\n",
    "from hydra.utils import instantiate\n",
    "\n",
    "import matplotlib as mpl\n",
    "import matplotlib.pyplot as plt\n",
    "import matplotlib.colors as mpl_colors\n",
    "import matplotlib.gridspec as mpl_gs\n",
    "from matplotlib.patches import Rectangle\n",
    "import cmocean\n",
    "\n",
    "import src_screening.model.accessor\n",
    "from src_screening.datasets import OfflineDataset"
   ]
  },
  {
   "cell_type": "code",
   "execution_count": null,
   "id": "43f5bb0c-3c5f-42d3-b772-87e470e46752",
   "metadata": {},
   "outputs": [],
   "source": [
    "plt.style.use(\"paper\")\n",
    "plt.style.use(\"egu_journals\")"
   ]
  },
  {
   "cell_type": "markdown",
   "id": "7a80316f-b380-4d88-ac33-5ecc3b7260c2",
   "metadata": {},
   "source": [
    "# Load data"
   ]
  },
  {
   "cell_type": "code",
   "execution_count": null,
   "id": "7f28c710-9a15-4f03-98cc-00e5ee884079",
   "metadata": {},
   "outputs": [],
   "source": [
    "dataset = OfflineDataset(\"../../data/raw/test/dataset/input_normal/\", \"../../data/raw/test/dataset/target_normal/\")"
   ]
  },
  {
   "cell_type": "code",
   "execution_count": null,
   "id": "5f4417bc-4d31-4287-b07d-51909fb8210b",
   "metadata": {},
   "outputs": [],
   "source": [
    "template = xr.open_dataset(\"../../data/interim/template_lr.nc\")"
   ]
  },
  {
   "cell_type": "markdown",
   "id": "4a380603-eb4e-4907-a0ea-4908535124d5",
   "metadata": {},
   "source": [
    "## Load model"
   ]
  },
  {
   "cell_type": "code",
   "execution_count": null,
   "id": "7b3bb197-1b0a-43c9-ac12-c7db4c149f7b",
   "metadata": {},
   "outputs": [],
   "source": [
    "def load_model(\n",
    "        model_checkpoint: str,\n",
    ") -> torch.nn.Module:\n",
    "    model_dir = os.path.dirname(model_checkpoint)\n",
    "    with initialize(config_path=os.path.join(model_dir, 'hydra')):\n",
    "        cfg = compose('config.yaml')\n",
    "    if \"model\" in cfg.keys():\n",
    "        cfg[\"model\"][\"_target_\"] = cfg[\"model\"][\"_target_\"].replace(\n",
    "            \".model.\", \".network.\"\n",
    "        )\n",
    "        cfg[\"model\"][\"backbone\"][\"_target_\"] = cfg[\"model\"][\"backbone\"][\"_target_\"].replace(\n",
    "            \".model.\", \".network.\"\n",
    "        )\n",
    "        cfg[\"model\"][\"backbone\"][\"cartesian_weights_path\"] = \"../../\" + cfg[\"model\"][\"backbone\"][\"cartesian_weights_path\"]\n",
    "        model = instantiate(\n",
    "            cfg.model,\n",
    "            optimizer_config=cfg.optimizer,\n",
    "            _recursive_=False\n",
    "        )\n",
    "    else:\n",
    "        cfg[\"network\"][\"backbone\"][\"cartesian_weights_path\"] = \"../../\" + cfg[\"network\"][\"backbone\"][\"cartesian_weights_path\"]\n",
    "        model = instantiate(\n",
    "            cfg.network,\n",
    "            optimizer_config=cfg.optimizer,\n",
    "            _recursive_=False\n",
    "        )    \n",
    "    state_dict = torch.load(model_checkpoint, map_location=torch.device(\"cpu\"))\n",
    "    model.load_state_dict(state_dict[\"state_dict\"], strict=False)\n",
    "    model = model.eval().cpu()\n",
    "    return model"
   ]
  },
  {
   "cell_type": "code",
   "execution_count": null,
   "id": "698981b7-1298-423f-97f8-066f753ad387",
   "metadata": {},
   "outputs": [],
   "source": [
    "network_relu = load_model(\"../../data/models_jeanzay/unext_small/0/last.ckpt\")"
   ]
  },
  {
   "cell_type": "code",
   "execution_count": null,
   "id": "5147fb16-8fc7-4140-bd6f-eac54393ed8f",
   "metadata": {},
   "outputs": [],
   "source": [
    "network_gelu = load_model(\"../../data/models_jeanzay/gelu_all/0/last.ckpt\")"
   ]
  },
  {
   "cell_type": "code",
   "execution_count": null,
   "id": "0057181a-f6a5-4d05-ab9a-58ba2d212045",
   "metadata": {},
   "outputs": [],
   "source": [
    "network_no = load_model(\"../../data/models_jeanzay/no_output/0/last.ckpt\")"
   ]
  },
  {
   "cell_type": "markdown",
   "id": "673b5f87-ab16-401d-b9c7-399500a9c8c4",
   "metadata": {},
   "source": [
    "# Get cartesian features"
   ]
  },
  {
   "cell_type": "code",
   "execution_count": null,
   "id": "28495c4d-3f37-4470-b742-a60407eb2c5a",
   "metadata": {},
   "outputs": [],
   "source": [
    "data_loader = torch.utils.data.DataLoader(dataset, batch_size=128)\n",
    "with torch.no_grad():\n",
    "    features_relu = []\n",
    "    for chunk in tqdm(data_loader):\n",
    "        predictor_cart = network_relu.backbone.to_cartesian(chunk[\"input_nodes\"], chunk[\"input_faces\"])\n",
    "        features_cart = network_relu.backbone.get_backbone_prediction(predictor_cart)\n",
    "        features_relu.append(network_relu.backbone.from_cartesian(features_cart)[1])\n",
    "    features_relu = torch.concat(features_relu, dim=0)"
   ]
  },
  {
   "cell_type": "code",
   "execution_count": null,
   "id": "b96841b2-c69f-4707-88c8-3223b8cfaa87",
   "metadata": {},
   "outputs": [],
   "source": [
    "data_loader = torch.utils.data.DataLoader(dataset, batch_size=128)\n",
    "with torch.no_grad():\n",
    "    features_gelu = []\n",
    "    for chunk in tqdm(data_loader):\n",
    "        predictor_cart = network_gelu.backbone.to_cartesian(chunk[\"input_nodes\"], chunk[\"input_faces\"])\n",
    "        features_cart = network_gelu.backbone.get_backbone_prediction(predictor_cart)\n",
    "        features_gelu.append(network_gelu.backbone.from_cartesian(features_cart)[1])\n",
    "    features_gelu = torch.concat(features_gelu, dim=0)"
   ]
  },
  {
   "cell_type": "code",
   "execution_count": null,
   "id": "b5360723-4215-4f77-a438-aeb85fd3d91a",
   "metadata": {},
   "outputs": [],
   "source": [
    "data_loader = torch.utils.data.DataLoader(dataset, batch_size=128)\n",
    "with torch.no_grad():\n",
    "    features_no = []\n",
    "    for chunk in tqdm(data_loader):\n",
    "        predictor_cart = network_no.backbone.to_cartesian(chunk[\"input_nodes\"], chunk[\"input_faces\"])\n",
    "        features_cart = network_no.backbone.get_backbone_prediction(predictor_cart)\n",
    "        features_no.append(network_no.backbone.from_cartesian(features_cart)[1])\n",
    "    features_no = torch.concat(features_no, dim=0)"
   ]
  },
  {
   "cell_type": "markdown",
   "id": "68ce3081-6244-49db-8267-2f885b395fd1",
   "metadata": {},
   "source": [
    "# Plot feature maps"
   ]
  },
  {
   "cell_type": "code",
   "execution_count": null,
   "id": "05786cbd-5783-4f3c-b856-0ae8fa21dc4b",
   "metadata": {},
   "outputs": [],
   "source": [
    "colors1 = plt.get_cmap(\"cmo.balance\")(np.linspace(0.5, 0, 128))\n",
    "colors2 = plt.get_cmap(\"cmo.thermal\")(np.linspace(0, 1, 128))"
   ]
  },
  {
   "cell_type": "code",
   "execution_count": null,
   "id": "df95b1d2-fd7a-47fc-b0be-c4ae42068d75",
   "metadata": {},
   "outputs": [],
   "source": [
    "colors = np.vstack((colors1, colors2))\n",
    "thermal_ice = mpl_colors.LinearSegmentedColormap.from_list('thermal_ice', colors)"
   ]
  },
  {
   "cell_type": "raw",
   "id": "06c587b7-91d6-43af-978f-7b2b07d87188",
   "metadata": {},
   "source": [
    "fig, ax = plt.subplots(nrows=4, ncols=32, dpi=60, figsize=(1*32, 5*4), sharex=True, sharey=True)\n",
    "for i in tqdm(range(128)):\n",
    "    ax[i//32, i%32].set_axis_off()\n",
    "    sel_feature = features_relu[0, i].numpy()\n",
    "    sel_norm = np.quantile(np.abs(sel_feature), 0.99) + 1E-9\n",
    "    ax[i//32, i%32].tripcolor(template.sinn.triangulation, sel_feature/sel_norm, cmap=thermal_ice, vmin=-1, vmax=1)\n",
    "ax[0, 0].set_xlim(-20000, 20000)\n",
    "ax[0, 0].set_ylim(-100000, 100000)"
   ]
  },
  {
   "cell_type": "raw",
   "id": "4fdd63c5-31e0-4b04-b008-4ef62ba4eca3",
   "metadata": {},
   "source": [
    "fig, ax = plt.subplots(nrows=4, ncols=32, dpi=60, figsize=(1*32, 5*4), sharex=True, sharey=True)\n",
    "for i in tqdm(range(128)):\n",
    "    ax[i//32, i%32].set_axis_off()\n",
    "    sel_feature = features_gelu[0, i].numpy()\n",
    "    sel_norm = np.quantile(np.abs(sel_feature), 0.99) + 1E-9\n",
    "    ax[i//32, i%32].tripcolor(template.sinn.triangulation, sel_feature/sel_norm, cmap=thermal_ice, vmin=-1, vmax=1)\n",
    "ax[0, 0].set_xlim(-20000, 20000)\n",
    "ax[0, 0].set_ylim(-100000, 100000)"
   ]
  },
  {
   "cell_type": "raw",
   "id": "40252eac-c35d-4cd3-98eb-af4399c4c51a",
   "metadata": {},
   "source": [
    "fig, ax = plt.subplots(nrows=4, ncols=32, dpi=60, figsize=(1*32, 5*4), sharex=True, sharey=True)\n",
    "for i in tqdm(range(128)):\n",
    "    ax[i//32, i%32].set_axis_off()\n",
    "    sel_feature = features_no[0, i].numpy()\n",
    "    sel_norm = np.quantile(np.abs(sel_feature), 0.99) + 1E-9\n",
    "    ax[i//32, i%32].tripcolor(template.sinn.triangulation, sel_feature/sel_norm, cmap=thermal_ice, vmin=-1, vmax=1)\n",
    "ax[0, 0].set_xlim(-20000, 20000)\n",
    "ax[0, 0].set_ylim(-100000, 100000)"
   ]
  },
  {
   "cell_type": "markdown",
   "id": "1fe33635-298a-40e0-9015-46e1da79cadf",
   "metadata": {},
   "source": [
    "# Fit Cauchy distribution"
   ]
  },
  {
   "cell_type": "code",
   "execution_count": null,
   "id": "5d9adf22-ee49-4da4-af9d-4b1fc2d931dd",
   "metadata": {},
   "outputs": [],
   "source": [
    "latent_dist_params = torch.nn.Parameter(torch.zeros(2))\n",
    "latent_optim = torch.optim.Adam([latent_dist_params], lr=1E-1)\n",
    "\n",
    "pbar = tqdm(range(100))\n",
    "\n",
    "for _ in pbar:\n",
    "    latent_optim.zero_grad()\n",
    "    scale = (latent_dist_params[1]*0.5).exp()\n",
    "    cauchy_dist = Cauchy(latent_dist_params[0], scale)\n",
    "    nll = -cauchy_dist.log_prob(features_no.flatten()).mean()\n",
    "    nll.backward()\n",
    "    latent_optim.step()\n",
    "    pbar.set_postfix(nll=nll.item(), loc=latent_dist_params[0].item(), scale=scale.item())"
   ]
  },
  {
   "cell_type": "markdown",
   "id": "62334a35-51a3-497e-923c-80ebfcd9ab33",
   "metadata": {},
   "source": [
    "# Create final figures"
   ]
  },
  {
   "cell_type": "code",
   "execution_count": null,
   "id": "9ff588c2-5110-4a1e-b203-2dcc59dd4b0a",
   "metadata": {},
   "outputs": [],
   "source": [
    "fig = plt.figure(figsize=(3, 4), dpi=300)\n",
    "gs = mpl_gs.GridSpec(nrows=7, ncols=1, hspace=0.1)\n",
    "\n",
    "# No activation map\n",
    "\n",
    "ax0 = fig.add_subplot(gs[0, :])\n",
    "ax0.set_axis_off()\n",
    "sel_no = features_no[0, 89].numpy()\n",
    "norm_no = np.quantile(np.abs(sel_no), 0.99)\n",
    "plt_no = ax0.tripcolor(\n",
    "    template.sinn.triangulation, sel_no / norm_no,\n",
    "    cmap=thermal_ice, vmin=-1, vmax=1, rasterized=True\n",
    ")\n",
    "ax0.set_ylim(-20000, 20000)\n",
    "ax0.set_xlim(-100000, 100000)\n",
    "t2 = mpl.transforms.Affine2D().rotate_deg(-90) + ax0.transData\n",
    "plt_no.set_transform(t2)\n",
    "ax0.text(x=0.005, y=0.975, s=\"(a) w/o\", transform=ax0.transAxes, ha=\"left\", va=\"top\", c=\"white\")\n",
    "ax0.text(0.7, 0.55, s=f\"$.75={np.percentile(sel_no/norm_no, 75):.2f}$\", ha=\"left\", va=\"bottom\", transform=ax0.transAxes, color=\"white\")\n",
    "ax0.text(0.7, 0.3, s=f\"$.50={np.median(sel_no/norm_no):.2f}$\", ha=\"left\", va=\"bottom\", transform=ax0.transAxes, color=\"white\")\n",
    "ax0.text(0.7, 0.05, s=f\"$.25={np.percentile(sel_no/norm_no, 25):.2f}$\", ha=\"left\", va=\"bottom\", transform=ax0.transAxes, color=\"white\")\n",
    "\n",
    "# RELU map\n",
    "\n",
    "ax1 = fig.add_subplot(gs[2, :], sharex=ax0, sharey=ax0)\n",
    "ax1.set_axis_off()\n",
    "sel_relu = features_relu[0, 25].numpy()\n",
    "norm_relu = np.quantile(np.abs(sel_relu), 0.99)\n",
    "plt_relu = ax1.tripcolor(\n",
    "    template.sinn.triangulation, sel_relu / norm_relu,\n",
    "    cmap=thermal_ice, vmin=-1, vmax=1, rasterized=True\n",
    ")\n",
    "t2 = mpl.transforms.Affine2D().rotate_deg(-90) + ax1.transData\n",
    "plt_relu.set_transform(t2)\n",
    "ax1.text(x=0.005, y=0.975, s=\"(c) relu\", transform=ax1.transAxes, ha=\"left\", va=\"top\", c=\"white\")\n",
    "ax1.text(0.7, 0.55, s=f\"$.75={np.percentile(sel_relu/norm_relu, 75):.2f}$\", ha=\"left\", va=\"bottom\", transform=ax1.transAxes, color=\"white\")\n",
    "ax1.text(0.7, 0.3, s=f\"$.50={np.median(sel_relu/norm_relu):.2f}$\", ha=\"left\", va=\"bottom\", transform=ax1.transAxes, color=\"white\")\n",
    "ax1.text(0.7, 0.05, s=f\"$.25={np.percentile(sel_relu/norm_relu, 25):.2f}$\", ha=\"left\", va=\"bottom\", transform=ax1.transAxes, color=\"white\")\n",
    "\n",
    "# GELU map\n",
    "\n",
    "ax2 = fig.add_subplot(gs[1, :], sharex=ax0, sharey=ax0)\n",
    "ax2.set_axis_off()\n",
    "sel_gelu = features_gelu[0, 60].numpy()\n",
    "norm_gelu = np.quantile(np.abs(sel_gelu), 0.99)\n",
    "plt_gelu = ax2.tripcolor(\n",
    "    template.sinn.triangulation, sel_gelu / norm_gelu,\n",
    "    cmap=thermal_ice, vmin=-1, vmax=1, rasterized=True\n",
    ")\n",
    "t2 = mpl.transforms.Affine2D().rotate_deg(-90) + ax2.transData\n",
    "plt_gelu.set_transform(t2)\n",
    "ax2.text(x=0.005, y=0.975, s=\"(b) Gelu\", transform=ax2.transAxes, ha=\"left\", va=\"top\", c=\"white\")\n",
    "ax2.text(0.7, 0.55, s=f\"$.75={np.percentile(sel_gelu/norm_gelu, 75):.2f}$\", ha=\"left\", va=\"bottom\", transform=ax2.transAxes, color=\"white\")\n",
    "ax2.text(0.7, 0.3, s=f\"$.50={np.median(sel_gelu/norm_gelu):.2f}$\", ha=\"left\", va=\"bottom\", transform=ax2.transAxes, color=\"white\")\n",
    "ax2.text(0.7, 0.05, s=f\"$.25={np.percentile(sel_gelu/norm_gelu, 25):.2f}$\", ha=\"left\", va=\"bottom\", transform=ax2.transAxes, color=\"white\")\n",
    "\n",
    "# Colorbar\n",
    "\n",
    "ax_cbar = fig.add_axes([1, 0.6294, 0.02, 0.3408])\n",
    "norm = mpl_colors.Normalize(vmin=-1, vmax=1)\n",
    "cbar = mpl.colorbar.ColorbarBase(ax_cbar, cmap=thermal_ice, norm=norm, label=\"Normalised activation\", orientation=\"vertical\")\n",
    "\n",
    "\n",
    "# Histogram\n",
    "\n",
    "ax = fig.add_subplot(gs[4:, :])\n",
    "_ = ax.hist(\n",
    "    features_no.numpy().flatten(),\n",
    "    bins=np.linspace(-2, 2, 200),\n",
    "    histtype=\"stepfilled\", #edgecolor=\"black\",\n",
    "    facecolor=mpl_colors.to_rgba(\"black\", 0.5), density=True,\n",
    "    lw=1,\n",
    "    zorder=1\n",
    ")\n",
    "cauchy_x = torch.linspace(-1, 2, 1000)\n",
    "with torch.no_grad():\n",
    "    cauchy_y = cauchy_dist.log_prob(cauchy_x).exp()\n",
    "ax.plot(cauchy_x, cauchy_y, c=\"black\", zorder=2)\n",
    "\n",
    "_ = ax.hist(\n",
    "    features_gelu.numpy().flatten(),\n",
    "    bins=np.linspace(-2, 2, 200),\n",
    "    histtype=\"stepfilled\", edgecolor=\"deepskyblue\",\n",
    "    facecolor=mpl_colors.to_rgba(\"deepskyblue\", 0.5), density=True,\n",
    "    lw=1, zorder=3\n",
    ")\n",
    "hist_relu = ax.hist(\n",
    "    features_relu.numpy().flatten(),\n",
    "    bins=np.linspace(-2, 2, 200),\n",
    "    histtype=\"stepfilled\", edgecolor=\"firebrick\",\n",
    "    facecolor=mpl_colors.to_rgba(\"firebrick\", 0.5), density=True,\n",
    "    lw=1, zorder=4\n",
    ")\n",
    "ax.set_ylim(0, 6)\n",
    "ax.set_xlabel(\"Activation value\")\n",
    "ax.set_ylabel(\"Probabilty density\")\n",
    "ax.set_yticks(np.arange(0, 6))\n",
    "\n",
    "\n",
    "d = .01\n",
    "\n",
    "handles = [\n",
    "    Rectangle((0,0), 1, 1, facecolor=mpl_colors.to_rgba(\"black\", 0.5), edgecolor=\"black\", lw=1),\n",
    "    Rectangle((0,0), 1, 1, facecolor=mpl_colors.to_rgba(\"deepskyblue\", 0.5), edgecolor=\"deepskyblue\", lw=1),\n",
    "    Rectangle((0,0), 1, 1, facecolor=mpl_colors.to_rgba(\"firebrick\", 0.5), edgecolor=\"firebrick\", lw=1)\n",
    "]\n",
    "ax.legend(handles=handles, labels=[\"w/o\", \"Gelu\", \"relu\"])\n",
    "\n",
    "ax_broken = fig.add_subplot(gs[3, :], sharex=ax)\n",
    "_ = ax_broken.hist(\n",
    "    features_relu.numpy().flatten(),\n",
    "    bins=np.linspace(-2, 2, 200),\n",
    "    histtype=\"stepfilled\", edgecolor=\"firebrick\",\n",
    "    facecolor=mpl_colors.to_rgba(\"firebrick\", 0.5), density=True,\n",
    "    lw=1\n",
    ")\n",
    "ax_broken.set_ylim(19, 21)\n",
    "ax_broken.spines['bottom'].set_visible(False)\n",
    "ax_broken.xaxis.tick_top()\n",
    "ax_broken.tick_params(labeltop=False, top=False)\n",
    "ax_broken.set_yticks([20, 21])\n",
    "ax_broken.text(x=0.005, y=0.975, s=\"(d)\", transform=ax_broken.transAxes, ha=\"left\", va=\"top\")\n",
    "\n",
    "ax.plot((-d, +d), (1-d, 1+d), transform=ax.transAxes, color='k', clip_on=False)\n",
    "ax_broken.plot((-d, +d), (-d*3, +d*3), transform=ax_broken.transAxes, color='k', clip_on=False)\n",
    "\n",
    "ax.set_xlim(-1, 2)\n",
    "\n",
    "fig.savefig(\"figures/figdfigc02_visualise_activation_features01_hist_activation_features.pdf\", bbox_inches='tight', pad_inches = 0)"
   ]
  },
  {
   "cell_type": "code",
   "execution_count": null,
   "id": "3fabb851-f72e-4b74-a334-0e66785849ef",
   "metadata": {},
   "outputs": [],
   "source": []
  }
 ],
 "metadata": {
  "kernelspec": {
   "display_name": "Python [conda env:subsinn]",
   "language": "python",
   "name": "conda-env-subsinn-py"
  },
  "language_info": {
   "codemirror_mode": {
    "name": "ipython",
    "version": 3
   },
   "file_extension": ".py",
   "mimetype": "text/x-python",
   "name": "python",
   "nbconvert_exporter": "python",
   "pygments_lexer": "ipython3"
  }
 },
 "nbformat": 4,
 "nbformat_minor": 5
}
