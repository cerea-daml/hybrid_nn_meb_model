{
 "cells": [
  {
   "cell_type": "code",
   "execution_count": null,
   "id": "41009f72-b9c8-4352-a0b4-1eaeead96a02",
   "metadata": {},
   "outputs": [],
   "source": [
    "import sys\n",
    "sys.path.append(\"../../\")\n",
    "\n",
    "import os\n",
    "\n",
    "\n",
    "from tqdm.notebook import tqdm\n",
    "\n",
    "\n",
    "import torch\n",
    "import torch.nn\n",
    "from torch.utils.data import DataLoader, Dataset\n",
    "\n",
    "import xarray as xr\n",
    "import numpy as np\n",
    "import pandas as pd\n",
    "\n",
    "from distributed import LocalCluster, Client\n",
    "\n",
    "from hydra import initialize, compose\n",
    "from hydra.utils import instantiate\n",
    "\n",
    "import matplotlib as mpl\n",
    "import matplotlib.pyplot as plt\n",
    "import matplotlib.colors as mpl_colors\n",
    "import matplotlib.gridspec as mpl_gs\n",
    "import cmocean\n",
    "import cmcrameri\n",
    "\n",
    "from src_screening.datasets import OfflineDataset\n",
    "from src_screening.model.wave_forcing import WaveForcing"
   ]
  },
  {
   "cell_type": "code",
   "execution_count": null,
   "id": "43f5bb0c-3c5f-42d3-b772-87e470e46752",
   "metadata": {},
   "outputs": [],
   "source": [
    "plt.style.use(\"paper\")\n",
    "plt.style.use(\"egu_journals\")"
   ]
  },
  {
   "cell_type": "code",
   "execution_count": null,
   "id": "abc76d61-80b8-49d7-9e1b-c0e8ed118f89",
   "metadata": {},
   "outputs": [],
   "source": [
    "local_cluster = LocalCluster(n_workers=48, threads_per_worker=1, local_directory=\"/tmp\")\n",
    "client = Client(local_cluster)\n",
    "client"
   ]
  },
  {
   "cell_type": "markdown",
   "id": "7a80316f-b380-4d88-ac33-5ecc3b7260c2",
   "metadata": {},
   "source": [
    "# Load data"
   ]
  },
  {
   "cell_type": "code",
   "execution_count": null,
   "id": "7f28c710-9a15-4f03-98cc-00e5ee884079",
   "metadata": {},
   "outputs": [],
   "source": [
    "ds_nature = xr.open_dataset(\"../../data/raw/test/lr_nature_forecast/\", engine=\"zarr\", chunks={\"time\": -1, \"ensemble\": 1, \"lead_time\": -1, \"nMesh2_node\": -1, \"nMesh2_face\": -1})\n",
    "ds_forecast = xr.open_dataset(\"../../data/processed/unext_small/9/traj_short/\", engine=\"zarr\", chunks={\"time\": -1, \"ensemble\": 1, \"lead_time\": -1, \"nMesh2_node\": -1, \"nMesh2_face\": -1})"
   ]
  },
  {
   "cell_type": "markdown",
   "id": "048b9c8d-f2e7-46a7-9224-0838b2443ca3",
   "metadata": {},
   "source": [
    "## Estimate forecast error and forecast update"
   ]
  },
  {
   "cell_type": "code",
   "execution_count": null,
   "id": "f4d4d7cb-9f58-4c0a-bc83-540ab0a076ba",
   "metadata": {},
   "outputs": [],
   "source": [
    "forecast_error = (ds_forecast.sel(lead_time=[\"9 min 52 s\", \"50 min 24 s\"])-ds_nature).reset_index(\"lead_time\", drop=True)\n",
    "forecast_update = (ds_forecast.roll(lead_time=1, roll_coords=False)-ds_forecast).sel(lead_time=[\"10 min 8 s\", \"50 min 40 s\"]).reset_index(\"lead_time\", drop=True)"
   ]
  },
  {
   "cell_type": "code",
   "execution_count": null,
   "id": "4963f4f0-1cd6-4826-bada-6f021fbaa5ce",
   "metadata": {},
   "outputs": [],
   "source": [
    "rms_error = np.sqrt((forecast_error**2).mean([\"ensemble\", \"time\", \"nMesh2_node\", \"nMesh2_face\"]))\n",
    "rms_update = np.sqrt((forecast_update**2).mean([\"ensemble\", \"time\", \"nMesh2_node\", \"nMesh2_face\"]))"
   ]
  },
  {
   "cell_type": "code",
   "execution_count": null,
   "id": "a3a7659f-ee59-4069-95f4-675330c768a8",
   "metadata": {},
   "outputs": [],
   "source": [
    "first_ratio = (rms_update.isel(lead_time=0)/rms_error.isel(lead_time=0)).compute()\n",
    "second_ratio = (rms_update.isel(lead_time=1)/rms_error.isel(lead_time=1)).compute()"
   ]
  },
  {
   "cell_type": "markdown",
   "id": "6114debd-920a-4dde-a4e2-e2fdf2473d47",
   "metadata": {},
   "source": [
    "# Estimate correlation between update and error"
   ]
  },
  {
   "cell_type": "code",
   "execution_count": null,
   "id": "00b241df-4f04-46bf-8e17-747497763a5e",
   "metadata": {},
   "outputs": [],
   "source": [
    "error_perts = forecast_error-forecast_error.mean([\"nMesh2_face\", \"nMesh2_node\"])\n",
    "update_perts = forecast_update-forecast_update.mean([\"nMesh2_face\", \"nMesh2_node\"])"
   ]
  },
  {
   "cell_type": "code",
   "execution_count": null,
   "id": "2f276dd8-25d5-43d2-9b79-2edee6bbb334",
   "metadata": {},
   "outputs": [],
   "source": [
    "pattern_covariance = (error_perts*update_perts).sum([\"nMesh2_face\", \"nMesh2_node\"]) / (xr.ones_like(error_perts).sum([\"nMesh2_face\", \"nMesh2_node\"])-1)\n",
    "error_std = forecast_error.std([\"nMesh2_face\", \"nMesh2_node\"], ddof=1)\n",
    "update_std = forecast_update.std([\"nMesh2_face\", \"nMesh2_node\"], ddof=1)"
   ]
  },
  {
   "cell_type": "code",
   "execution_count": null,
   "id": "6a4cc88d-3e0f-4a07-8287-6fc55e88353b",
   "metadata": {},
   "outputs": [],
   "source": [
    "pattern_correlation = pattern_covariance / (error_std+1E-9) / (update_std+1E-9)"
   ]
  },
  {
   "cell_type": "code",
   "execution_count": null,
   "id": "8597b62b-b23d-40eb-998e-011af75ea7ce",
   "metadata": {},
   "outputs": [],
   "source": [
    "mean_pattern_correlation = np.tanh(np.arctanh(pattern_correlation).to_array(\"var_names\").mean([\"var_names\", \"ensemble\", \"time\"])).compute()"
   ]
  },
  {
   "cell_type": "code",
   "execution_count": null,
   "id": "a0f470b8-c7cd-4488-8e98-7da30b4dafda",
   "metadata": {},
   "outputs": [],
   "source": [
    "average_correlation = np.tanh(np.arctanh(pattern_correlation).mean([\"ensemble\", \"time\"])).compute()"
   ]
  },
  {
   "cell_type": "code",
   "execution_count": null,
   "id": "bdbd7fcd-abba-40d8-bd2f-cef0fbafe015",
   "metadata": {},
   "outputs": [],
   "source": [
    "pandas_correlation = average_correlation[[\"v\", \"stress_yy\", \"damage\", \"area\"]].to_array(\"var_names\").T.to_pandas()"
   ]
  },
  {
   "cell_type": "code",
   "execution_count": null,
   "id": "c38aadc0-6710-44a0-a466-323292c8cb4c",
   "metadata": {},
   "outputs": [],
   "source": [
    "pandas_correlation[\"mean\"] = mean_pattern_correlation.to_pandas()"
   ]
  },
  {
   "cell_type": "code",
   "execution_count": null,
   "id": "2219cc5c-8c13-4dbb-859c-c6207a050489",
   "metadata": {},
   "outputs": [],
   "source": [
    "pandas_correlation.round(2)"
   ]
  },
  {
   "cell_type": "code",
   "execution_count": null,
   "id": "60f89e21-df88-4a63-ae8a-b150c7783cdc",
   "metadata": {},
   "outputs": [],
   "source": [
    "pandas_correlation.round(2).to_latex()"
   ]
  },
  {
   "cell_type": "markdown",
   "id": "7c1d4614-e4c6-4534-baa4-14f57e775d64",
   "metadata": {},
   "source": [
    "#### "
   ]
  }
 ],
 "metadata": {
  "kernelspec": {
   "display_name": "Python [conda env:subsinn]",
   "language": "python",
   "name": "conda-env-subsinn-py"
  },
  "language_info": {
   "codemirror_mode": {
    "name": "ipython",
    "version": 3
   },
   "file_extension": ".py",
   "mimetype": "text/x-python",
   "name": "python",
   "nbconvert_exporter": "python",
   "pygments_lexer": "ipython3"
  }
 },
 "nbformat": 4,
 "nbformat_minor": 5
}
