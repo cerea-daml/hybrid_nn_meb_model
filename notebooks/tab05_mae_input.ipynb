{
 "cells": [
  {
   "cell_type": "code",
   "execution_count": null,
   "id": "84539e28-f0ab-4983-ba82-329e23e35237",
   "metadata": {},
   "outputs": [],
   "source": [
    "import xarray as xr\n",
    "import numpy as np\n",
    "import pandas as pd\n",
    "from pandas.plotting import table\n",
    "\n",
    "from dask.distributed import LocalCluster, Client"
   ]
  },
  {
   "cell_type": "code",
   "execution_count": null,
   "id": "d87bd13b-c4ed-4136-9128-3e30c7250f87",
   "metadata": {},
   "outputs": [],
   "source": [
    "cluster = LocalCluster(n_workers=12, threads_per_worker=1, local_directory=\"/tmp\", dashboard_address=\":8789\")\n",
    "client = Client(cluster)\n",
    "client"
   ]
  },
  {
   "cell_type": "markdown",
   "id": "358bc649-d051-46b2-993d-94da6ed94933",
   "metadata": {},
   "source": [
    "# Baseline"
   ]
  },
  {
   "cell_type": "code",
   "execution_count": null,
   "id": "15263e66-ad88-4ea6-b746-c88cf3e03a70",
   "metadata": {},
   "outputs": [],
   "source": [
    "lead_time = \"10 min 8s\""
   ]
  },
  {
   "cell_type": "markdown",
   "id": "8cda6510-2ded-4b86-b1d7-d73d6d676a9a",
   "metadata": {},
   "source": [
    "## Train data"
   ]
  },
  {
   "cell_type": "code",
   "execution_count": null,
   "id": "90f0bb91-141c-4ec0-8342-a22bfb7b7c17",
   "metadata": {},
   "outputs": [],
   "source": [
    "train_nature = xr.open_zarr(\"../../data/raw/train/lr_nature_forecast/\", chunks={\"time\": -1, \"ensemble\": 1}).sel(lead_time=lead_time)\n",
    "train_forecast = xr.open_zarr(\"../../data/raw/train/lr_forecast/\", chunks={\"time\": -1, \"ensemble\": 1}).sel(lead_time=lead_time)"
   ]
  },
  {
   "cell_type": "markdown",
   "id": "e44d2063-b342-47a2-8d56-a3d7fe5164cf",
   "metadata": {},
   "source": [
    "## Test data"
   ]
  },
  {
   "cell_type": "code",
   "execution_count": null,
   "id": "8dda89f4-579a-4976-93e4-605e7d68fadd",
   "metadata": {},
   "outputs": [],
   "source": [
    "nature_data = xr.open_zarr(\"../../data/raw/test/lr_nature_forecast/\", chunks={\"time\":  -1, \"ensemble\": 1}).sel(lead_time=lead_time)"
   ]
  },
  {
   "cell_type": "markdown",
   "id": "c3a5d4b7-51d7-4a3d-9133-6820085b868f",
   "metadata": {},
   "source": [
    "## Prediction"
   ]
  },
  {
   "cell_type": "code",
   "execution_count": null,
   "id": "eefea299-f2be-4df1-b9e2-4e31af0946fd",
   "metadata": {},
   "outputs": [],
   "source": [
    "predictions = {\n",
    "    \"initial_only\": xr.concat([xr.open_zarr(f\"../../data/processed/input_initial/{s:d}/prediction_offline\", chunks={\"time\": -1}) for s in range(10)], dim=\"seed\"),\n",
    "    \"forecast_only\": xr.concat([xr.open_zarr(f\"../../data/processed/input_forecast/{s:d}/prediction_offline\", chunks={\"time\": -1}) for s in range(10)], dim=\"seed\"),\n",
    "    \"initial_forecast\": xr.concat([xr.open_zarr(f\"../../data/processed/unext_small/{s:d}/prediction_offline\", chunks={\"time\": -1}) for s in range(10)], dim=\"seed\"),\n",
    "    \"without_forcing\": xr.concat([xr.open_zarr(f\"../../data/processed/input_woforcing/{s:d}/prediction_offline\", chunks={\"time\": -1}) for s in range(10)], dim=\"seed\"),\n",
    "    \"difference_only\": xr.concat([xr.open_zarr(f\"../../data/processed/input_only_difference/{s:d}/prediction_offline\", chunks={\"time\": -1}) for s in range(10)], dim=\"seed\"),\n",
    "    \"initial_difference\": xr.concat([xr.open_zarr(f\"../../data/processed/input_difference/{s:d}/prediction_offline\", chunks={\"time\": -1}) for s in range(10)], dim=\"seed\"),\n",
    "    \"forecast_difference\": xr.concat([xr.open_zarr(f\"../../data/processed/input_fcst_difference/{s:d}/prediction_offline\", chunks={\"time\": -1}) for s in range(10)], dim=\"seed\"),\n",
    "}"
   ]
  },
  {
   "cell_type": "markdown",
   "id": "bbde4fb8-b118-491b-b571-7d17cf445093",
   "metadata": {},
   "source": [
    "## Estimate train errors for normalization"
   ]
  },
  {
   "cell_type": "code",
   "execution_count": null,
   "id": "6f41a24b-9efc-4ce6-9928-3f0cdd84d9b4",
   "metadata": {},
   "outputs": [],
   "source": [
    "train_err = train_forecast-train_nature"
   ]
  },
  {
   "cell_type": "code",
   "execution_count": null,
   "id": "84829c8e-5a7e-4383-896d-3a6fd541c9c8",
   "metadata": {},
   "outputs": [],
   "source": [
    "train_median = train_err.chunk({\"ensemble\": -1}).quantile(0.5)\n",
    "train_scale = np.abs(train_err-train_median).mean([\"ensemble\", \"time\", \"nMesh2_face\", \"nMesh2_node\"])"
   ]
  },
  {
   "cell_type": "code",
   "execution_count": null,
   "id": "103e03f3-eb14-4ca3-9370-23167a42aaf7",
   "metadata": {},
   "outputs": [],
   "source": [
    "norm_median = train_median.compute()\n",
    "norm_scale = train_scale.compute()"
   ]
  },
  {
   "cell_type": "code",
   "execution_count": null,
   "id": "8148bafe-6cc1-494f-ae50-72db89dbe64f",
   "metadata": {},
   "outputs": [],
   "source": [
    "train_mean = train_nature.mean().compute()"
   ]
  },
  {
   "cell_type": "markdown",
   "id": "2d998f91-3ea5-4325-904c-03b9ba2051b8",
   "metadata": {},
   "source": [
    "# Estimate general errors"
   ]
  },
  {
   "cell_type": "code",
   "execution_count": null,
   "id": "0df41b79-3823-40ba-b5ad-29dce0e79286",
   "metadata": {},
   "outputs": [],
   "source": [
    "pred_error = {\n",
    "    name: (pred-nature_data)/norm_scale for name, pred in predictions.items()\n",
    "}"
   ]
  },
  {
   "cell_type": "markdown",
   "id": "197d9bc4-4f11-4cc5-b214-06a130c92f77",
   "metadata": {},
   "source": [
    "# MAE"
   ]
  },
  {
   "cell_type": "code",
   "execution_count": null,
   "id": "177ff14b-4ac8-4666-81ae-96e4c61c6d0f",
   "metadata": {},
   "outputs": [],
   "source": [
    "def get_mae(error):\n",
    "    return np.abs(error).mean()"
   ]
  },
  {
   "cell_type": "code",
   "execution_count": null,
   "id": "3d00f0a0-8066-406e-a172-27fb9fa2b444",
   "metadata": {},
   "outputs": [],
   "source": [
    "mae_results = pd.DataFrame({\n",
    "    name: get_mae(error).to_array(\"var_names\").to_pandas()\n",
    "    for name, error in pred_error.items()\n",
    "})"
   ]
  },
  {
   "cell_type": "code",
   "execution_count": null,
   "id": "1af33367-6715-4d30-a5f2-6abed42d9a99",
   "metadata": {},
   "outputs": [],
   "source": [
    "mae_mean = mae_results.mean()\n",
    "mae_mean.name = \"mean\""
   ]
  },
  {
   "cell_type": "markdown",
   "id": "897dc813-d8e0-413f-9ab5-dff7b7871fa2",
   "metadata": {},
   "source": [
    "# Combine"
   ]
  },
  {
   "cell_type": "code",
   "execution_count": null,
   "id": "53c4e4b0-7a39-4c63-a86f-275f30c34473",
   "metadata": {},
   "outputs": [],
   "source": [
    "combined_results = pd.concat([mae_results.T, mae_mean], axis=1)"
   ]
  },
  {
   "cell_type": "code",
   "execution_count": null,
   "id": "ac62236f-d992-4331-a41d-dc2992575b90",
   "metadata": {},
   "outputs": [],
   "source": [
    "combined_results = combined_results.round(2)\n",
    "combined_results[[\"area\", \"damage\", \"stress_yy\", \"v\", \"mean\"]].to_latex()"
   ]
  },
  {
   "cell_type": "code",
   "execution_count": null,
   "id": "c1352368-d914-40c7-859d-c1d65df3d0cd",
   "metadata": {},
   "outputs": [],
   "source": []
  }
 ],
 "metadata": {
  "kernelspec": {
   "display_name": "Python [conda env:subsinn]",
   "language": "python",
   "name": "conda-env-subsinn-py"
  },
  "language_info": {
   "codemirror_mode": {
    "name": "ipython",
    "version": 3
   },
   "file_extension": ".py",
   "mimetype": "text/x-python",
   "name": "python",
   "nbconvert_exporter": "python",
   "pygments_lexer": "ipython3"
  }
 },
 "nbformat": 4,
 "nbformat_minor": 5
}
