{
 "cells": [
  {
   "cell_type": "code",
   "execution_count": null,
   "id": "84539e28-f0ab-4983-ba82-329e23e35237",
   "metadata": {},
   "outputs": [],
   "source": [
    "import xarray as xr\n",
    "import numpy as np\n",
    "import pandas as pd\n",
    "from pandas.plotting import table\n",
    "\n",
    "from dask.distributed import LocalCluster, Client\n",
    "\n",
    "import matplotlib.pyplot as plt\n",
    "import cmocean\n",
    "import src_screening.model.accessor"
   ]
  },
  {
   "cell_type": "code",
   "execution_count": null,
   "id": "d87bd13b-c4ed-4136-9128-3e30c7250f87",
   "metadata": {},
   "outputs": [],
   "source": [
    "cluster = LocalCluster(n_workers=48, threads_per_worker=1, local_directory=\"/tmp\")\n",
    "client = Client(cluster)\n",
    "client"
   ]
  },
  {
   "cell_type": "markdown",
   "id": "358bc649-d051-46b2-993d-94da6ed94933",
   "metadata": {},
   "source": [
    "# Baseline"
   ]
  },
  {
   "cell_type": "code",
   "execution_count": null,
   "id": "b6682e86-d8a3-45f8-a9ae-f8491d26ad56",
   "metadata": {},
   "outputs": [],
   "source": [
    "lead_times = [\"1 hour\"]"
   ]
  },
  {
   "cell_type": "markdown",
   "id": "8cda6510-2ded-4b86-b1d7-d73d6d676a9a",
   "metadata": {},
   "source": [
    "## Train data"
   ]
  },
  {
   "cell_type": "code",
   "execution_count": null,
   "id": "90f0bb91-141c-4ec0-8342-a22bfb7b7c17",
   "metadata": {},
   "outputs": [],
   "source": [
    "train_nature = xr.open_zarr(\"../../data/raw/train/lr_nature_forecast/\", chunks={\"time\": -1, \"ensemble\": 1, \"lead_time\": -1}).sel(lead_time=lead_times)\n",
    "train_forecast = xr.open_zarr(\"../../data/raw/train/lr_forecast/\", chunks={\"time\": -1, \"ensemble\": 1, \"lead_time\": -1}).sel(lead_time=lead_times)"
   ]
  },
  {
   "cell_type": "markdown",
   "id": "e44d2063-b342-47a2-8d56-a3d7fe5164cf",
   "metadata": {},
   "source": [
    "## Test data"
   ]
  },
  {
   "cell_type": "code",
   "execution_count": null,
   "id": "8dda89f4-579a-4976-93e4-605e7d68fadd",
   "metadata": {},
   "outputs": [],
   "source": [
    "nature_data = xr.open_zarr(\"../../data/raw/test/lr_nature_forecast/\", chunks={\"time\": -1, \"ensemble\": 1, \"lead_time\": -1}).sel(lead_time=lead_times)\n",
    "persist_data = xr.open_zarr(\"../../data/raw/test/lr_nature_forecast/\", chunks={\"time\": -1, \"ensemble\": 1, \"lead_time\": -1}).sel(lead_time=\"0s\")\n",
    "forecast_data = xr.open_zarr(\"../../data/raw/test/lr_forecast/\", chunks={\"time\": -1, \"ensemble\": 1, \"lead_time\": -1}).sel(lead_time=lead_times)"
   ]
  },
  {
   "cell_type": "markdown",
   "id": "c3a5d4b7-51d7-4a3d-9133-6820085b868f",
   "metadata": {},
   "source": [
    "## Prediction"
   ]
  },
  {
   "cell_type": "code",
   "execution_count": null,
   "id": "eefea299-f2be-4df1-b9e2-4e31af0946fd",
   "metadata": {},
   "outputs": [],
   "source": [
    "predictions = {\n",
    "    \"U-NeXt (×1)\": xr.open_mfdataset(\n",
    "        \"../../data/processed/unext_small/*/traj_short\", concat_dim=\"seed\", combine=\"nested\", engine=\"zarr\", parallel=True,\n",
    "        chunks={\"time\": -1, \"ensemble\": 1, \"lead_time\": -1, \"seed\": 5}\n",
    "    ),\n",
    "    \"Initial+Difference\": xr.open_mfdataset(\n",
    "        \"../../data/processed/input_difference/*/traj_short\", concat_dim=\"seed\", combine=\"nested\", engine=\"zarr\", parallel=True,\n",
    "        chunks={\"time\": -1, \"ensemble\": 1, \"lead_time\": -1, \"seed\": 5}\n",
    "    ),\n",
    "}"
   ]
  },
  {
   "cell_type": "code",
   "execution_count": null,
   "id": "fdb84a32-306f-4ec1-bee0-7b63fa77cb2a",
   "metadata": {},
   "outputs": [],
   "source": [
    "predictions = {\n",
    "    k: p.sel(lead_time=~p.indexes[\"lead_time\"].duplicated(keep=\"last\"))\n",
    "    for k, p in predictions.items()\n",
    "}"
   ]
  },
  {
   "cell_type": "code",
   "execution_count": null,
   "id": "53c59602-6149-42d0-8488-aa785f6e0096",
   "metadata": {},
   "outputs": [],
   "source": [
    "predictions = {\n",
    "    k: p.sel(lead_time=lead_times)\n",
    "    for k, p in predictions.items()\n",
    "}"
   ]
  },
  {
   "cell_type": "markdown",
   "id": "bbde4fb8-b118-491b-b571-7d17cf445093",
   "metadata": {},
   "source": [
    "## Estimate train errors for normalization"
   ]
  },
  {
   "cell_type": "code",
   "execution_count": null,
   "id": "a667b3f3-7072-4834-8f97-5625565e993f",
   "metadata": {},
   "outputs": [],
   "source": [
    "train_errors = train_forecast-train_nature"
   ]
  },
  {
   "cell_type": "code",
   "execution_count": null,
   "id": "ac827fe2-39d4-4ee9-a449-a067b095d74b",
   "metadata": {},
   "outputs": [],
   "source": [
    "norm_std = train_errors.std([\"ensemble\", \"time\", \"nMesh2_face\", \"nMesh2_node\"], ddof=1)\n",
    "norm_std = norm_std.compute()\n",
    "norm_std = norm_std.clip(min=1E-9)"
   ]
  },
  {
   "cell_type": "markdown",
   "id": "2d998f91-3ea5-4325-904c-03b9ba2051b8",
   "metadata": {},
   "source": [
    "# Estimate general errors"
   ]
  },
  {
   "cell_type": "code",
   "execution_count": null,
   "id": "c5403f14-3426-4711-a12c-9ace168f5641",
   "metadata": {},
   "outputs": [],
   "source": [
    "persist_error = persist_data-nature_data\n",
    "fcst_error = forecast_data-nature_data"
   ]
  },
  {
   "cell_type": "code",
   "execution_count": null,
   "id": "9e09a9d3-11b6-422f-80b1-b00c841367e6",
   "metadata": {},
   "outputs": [],
   "source": [
    "all_errors = {\n",
    "    \"persistence\": persist_error/norm_std,\n",
    "    \"forecast\": fcst_error/norm_std,\n",
    "}"
   ]
  },
  {
   "cell_type": "code",
   "execution_count": null,
   "id": "0df41b79-3823-40ba-b5ad-29dce0e79286",
   "metadata": {},
   "outputs": [],
   "source": [
    "pred_error = {\n",
    "    name: (pred-nature_data)/norm_std for name, pred in predictions.items()\n",
    "}\n",
    "all_errors = all_errors | pred_error"
   ]
  },
  {
   "cell_type": "markdown",
   "id": "401e3e94-0dbc-419b-ac45-c6d7006248b1",
   "metadata": {},
   "source": [
    "# Analyse output"
   ]
  },
  {
   "cell_type": "code",
   "execution_count": null,
   "id": "4c515ee0-bf62-410e-8e14-d4d9213bc156",
   "metadata": {},
   "outputs": [],
   "source": [
    "def get_rmse(error):\n",
    "    if \"seed\" in error.dims:\n",
    "        return np.sqrt((error**2).mean([\"seed\", \"ensemble\", \"time\", \"nMesh2_face\", \"nMesh2_node\"]))\n",
    "    else:\n",
    "        return np.sqrt((error**2).mean([\"ensemble\", \"time\", \"nMesh2_face\", \"nMesh2_node\"]))"
   ]
  },
  {
   "cell_type": "code",
   "execution_count": null,
   "id": "e8b0c331-a5c5-4a7b-bd8b-6082277d114b",
   "metadata": {},
   "outputs": [],
   "source": [
    "def get_mean_rmse(error):\n",
    "    if \"seed\" in error.dims:\n",
    "        return np.sqrt((error**2).mean([\"seed\", \"ensemble\", \"time\", \"nMesh2_face\", \"nMesh2_node\"]).to_array(\"var_names\").mean(\"var_names\"))\n",
    "    else:\n",
    "        return np.sqrt((error**2).mean([\"ensemble\", \"time\", \"nMesh2_face\", \"nMesh2_node\"]).to_array(\"var_names\").mean(\"var_names\"))"
   ]
  },
  {
   "cell_type": "code",
   "execution_count": null,
   "id": "ec65229c-f7b6-4c28-94c2-ad71d1c30a0f",
   "metadata": {},
   "outputs": [],
   "source": [
    "rmse_results = pd.DataFrame({\n",
    "    name: get_rmse(error).to_array(\"var_names\").stack(stacked=[\"lead_time\", \"var_names\"]).to_pandas()\n",
    "    for name, error in all_errors.items()\n",
    "})"
   ]
  },
  {
   "cell_type": "code",
   "execution_count": null,
   "id": "e394da62-241a-4201-817a-f6cfcf0279db",
   "metadata": {},
   "outputs": [],
   "source": [
    "rmse_results.round(2)"
   ]
  },
  {
   "cell_type": "code",
   "execution_count": null,
   "id": "1bfa7cc2-7976-42bb-9417-a30c272f906a",
   "metadata": {},
   "outputs": [],
   "source": [
    "total_rmse = pd.DataFrame({\n",
    "    name: get_mean_rmse(error).to_pandas()\n",
    "    for name, error in all_errors.items()\n",
    "})"
   ]
  },
  {
   "cell_type": "code",
   "execution_count": null,
   "id": "151fe923-420a-486a-8544-4c4616039856",
   "metadata": {},
   "outputs": [],
   "source": [
    "total_rmse.name = \"mean\"\n",
    "total_rmse.index = [(pd.Timedelta('0 days 01:00:00'), 'mean')]"
   ]
  },
  {
   "cell_type": "code",
   "execution_count": null,
   "id": "1e5ad16f-547e-4946-a7ee-1fadf532da24",
   "metadata": {},
   "outputs": [],
   "source": [
    "total_rmse"
   ]
  },
  {
   "cell_type": "code",
   "execution_count": null,
   "id": "d2f284c2-c1f2-4007-a925-33d4f6dbe33a",
   "metadata": {},
   "outputs": [],
   "source": [
    "combined_result = pd.concat([rmse_results, total_rmse], axis=0)"
   ]
  },
  {
   "cell_type": "code",
   "execution_count": null,
   "id": "509a9f3b-29bb-465e-a967-52252961ff06",
   "metadata": {},
   "outputs": [],
   "source": [
    "combined_result.index = combined_result.index.get_level_values(\"var_names\")"
   ]
  },
  {
   "cell_type": "code",
   "execution_count": null,
   "id": "ed4bd709-c68d-4980-8c22-a5e3405cdd39",
   "metadata": {},
   "outputs": [],
   "source": [
    "combined_result.round(2).T"
   ]
  },
  {
   "cell_type": "code",
   "execution_count": null,
   "id": "e0614bcf-bdb0-495b-acad-9d7a05cd9e5c",
   "metadata": {},
   "outputs": [],
   "source": [
    "total_rmse.T.round(2).to_latex()"
   ]
  },
  {
   "cell_type": "code",
   "execution_count": null,
   "id": "2e2fa3c4-db50-4f1d-ae8e-fe48d546b4c7",
   "metadata": {},
   "outputs": [],
   "source": []
  }
 ],
 "metadata": {
  "kernelspec": {
   "display_name": "Python [conda env:subsinn]",
   "language": "python",
   "name": "conda-env-subsinn-py"
  },
  "language_info": {
   "codemirror_mode": {
    "name": "ipython",
    "version": 3
   },
   "file_extension": ".py",
   "mimetype": "text/x-python",
   "name": "python",
   "nbconvert_exporter": "python",
   "pygments_lexer": "ipython3"
  }
 },
 "nbformat": 4,
 "nbformat_minor": 5
}
