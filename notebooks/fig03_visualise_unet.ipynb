{
 "cells": [
  {
   "cell_type": "code",
   "execution_count": null,
   "id": "41009f72-b9c8-4352-a0b4-1eaeead96a02",
   "metadata": {},
   "outputs": [],
   "source": [
    "import sys\n",
    "sys.path.append(\"../../\")\n",
    "\n",
    "import os\n",
    "from copy import deepcopy\n",
    "\n",
    "import xarray as xr\n",
    "import numpy as np\n",
    "import pandas as pd\n",
    "\n",
    "import torch\n",
    "import torch.nn\n",
    "\n",
    "import pytorch_lightning as pl\n",
    "\n",
    "from hydra import initialize, compose\n",
    "from hydra.utils import instantiate\n",
    "\n",
    "import matplotlib.pyplot as plt\n",
    "import matplotlib.colors as mpl_colors\n",
    "import matplotlib.gridspec as mpl_gs\n",
    "import cmocean\n",
    "\n",
    "import src_screening.model.accessor\n",
    "import src_screening.model.fem_interpolation as grid_utils\n",
    "from src_screening.datasets import OfflineDataset\n"
   ]
  },
  {
   "cell_type": "code",
   "execution_count": null,
   "id": "43f5bb0c-3c5f-42d3-b772-87e470e46752",
   "metadata": {},
   "outputs": [],
   "source": [
    "plt.style.use(\"paper\")\n",
    "plt.style.use(\"egu_journals\")"
   ]
  },
  {
   "cell_type": "markdown",
   "id": "7a80316f-b380-4d88-ac33-5ecc3b7260c2",
   "metadata": {},
   "source": [
    "# Load data"
   ]
  },
  {
   "cell_type": "code",
   "execution_count": null,
   "id": "4835db4d-aa1c-4e22-ba8a-8bdfc41f4fbc",
   "metadata": {},
   "outputs": [],
   "source": [
    "dataset = OfflineDataset(\n",
    "    \"../../data/raw/test/dataset/input_normal\",\n",
    "    \"../../data/raw/test/dataset/target_normal/\",\n",
    ")"
   ]
  },
  {
   "cell_type": "code",
   "execution_count": null,
   "id": "0717a989-5600-4ecb-90ba-d671860fe04a",
   "metadata": {},
   "outputs": [],
   "source": [
    "template = xr.open_dataset(\"../../data/interim/template_lr.nc\")"
   ]
  },
  {
   "cell_type": "markdown",
   "id": "4a380603-eb4e-4907-a0ea-4908535124d5",
   "metadata": {},
   "source": [
    "## Load model"
   ]
  },
  {
   "cell_type": "code",
   "execution_count": null,
   "id": "7b3bb197-1b0a-43c9-ac12-c7db4c149f7b",
   "metadata": {},
   "outputs": [],
   "source": [
    "def load_model(\n",
    "        model_checkpoint: str,\n",
    ") -> torch.nn.Module:\n",
    "    model_dir = os.path.dirname(model_checkpoint)\n",
    "    with initialize(config_path=os.path.join(model_dir, 'hydra')):\n",
    "        cfg = compose('config.yaml')\n",
    "\n",
    "    try:\n",
    "        cfg[\"model\"][\"backbone\"][\"_target_\"] = 'src_screening.network.backbone.UNextBackbone'\n",
    "        cfg[\"model\"][\"_target_\"] = 'src_screening.network.offline.DeterministicOfflineModel'\n",
    "        cfg[\"model\"][\"backbone\"][\"cartesian_weights_path\"] = \"../../\" + cfg[\"model\"][\"backbone\"][\"cartesian_weights_path\"]\n",
    "        model: torch.nn.Module = instantiate(\n",
    "            cfg.model,\n",
    "            optimizer_config=cfg.optimizer,\n",
    "            _recursive_=False\n",
    "        )\n",
    "    except Exception as e:\n",
    "        cfg[\"network\"][\"backbone\"][\"cartesian_weights_path\"] = \"../../\" + cfg[\"network\"][\"backbone\"][\"cartesian_weights_path\"]\n",
    "        model = instantiate(\n",
    "            cfg.network,\n",
    "            optimizer_config=cfg.optimizer,\n",
    "            _recursive_=False\n",
    "        )        \n",
    "    state_dict = torch.load(model_checkpoint, map_location=torch.device(\"cpu\"))\n",
    "    model.load_state_dict(state_dict[\"state_dict\"], strict=False)\n",
    "    model = model.eval().cpu()\n",
    "    return model"
   ]
  },
  {
   "cell_type": "code",
   "execution_count": null,
   "id": "0057181a-f6a5-4d05-ab9a-58ba2d212045",
   "metadata": {},
   "outputs": [],
   "source": [
    "network = load_model(\n",
    "    \"../../data/models_jeanzay/unext_small/9/last.ckpt\",\n",
    ")"
   ]
  },
  {
   "cell_type": "markdown",
   "id": "b35f76ec-252d-4e7c-8e32-56b54c564381",
   "metadata": {},
   "source": [
    "# Get data to plot"
   ]
  },
  {
   "cell_type": "code",
   "execution_count": null,
   "id": "71098267-4a58-4f4c-addc-6b61079692df",
   "metadata": {},
   "outputs": [],
   "source": [
    "data_dict = {k: i[None, ...] for k, i in dataset[0].items()}"
   ]
  },
  {
   "cell_type": "code",
   "execution_count": null,
   "id": "69ee3854-a107-4bba-9ab4-e463d1afbe6b",
   "metadata": {},
   "outputs": [],
   "source": [
    "with torch.no_grad():\n",
    "    predictor_cart = network.backbone.to_cartesian(data_dict[\"input_nodes\"], data_dict[\"input_faces\"])\n",
    "    features_cart = network.backbone.get_backbone_prediction(predictor_cart)\n",
    "    features_nodes, features_faces = network.backbone.from_cartesian(features_cart)\n",
    "    error_faces = network.head_face(features_faces)\n",
    "    errors_cart = network.head_face(features_cart.view(1, 128, -1)).view(1, 7, *features_cart.shape[-2:])"
   ]
  },
  {
   "cell_type": "markdown",
   "id": "63f4716e-9c65-4a87-9394-cf2b487ed02f",
   "metadata": {},
   "source": [
    "## Coordinates"
   ]
  },
  {
   "cell_type": "code",
   "execution_count": null,
   "id": "9b502c87-0c32-43da-8cfe-45ace75e5289",
   "metadata": {},
   "outputs": [],
   "source": [
    "cart_coords_mesh, cart_coords_xy = grid_utils.gen_cartesian_coords(\n",
    "    template, cartesian_res=None,\n",
    "    target_shape=(128, 32)\n",
    ")"
   ]
  },
  {
   "cell_type": "code",
   "execution_count": null,
   "id": "a23f2251-43e2-4aa4-8553-06ad4f8e1ad0",
   "metadata": {},
   "outputs": [],
   "source": [
    "res_x = cart_coords_xy[0][1]-cart_coords_xy[0][0]\n",
    "res_y = cart_coords_xy[1][1]-cart_coords_xy[1][0]\n",
    "\n",
    "cart_bounds_x = [cart_coords_xy[0][0]-res_x/2] + list(cart_coords_xy[0]+res_x/2)\n",
    "cart_bounds_y = [cart_coords_xy[1][0]-res_y/2] + list(cart_coords_xy[1]+res_y/2)"
   ]
  },
  {
   "cell_type": "markdown",
   "id": "3b0bad1b-148f-4776-8ea0-d3cee2a7bfd0",
   "metadata": {},
   "source": [
    "# Plot"
   ]
  },
  {
   "cell_type": "code",
   "execution_count": null,
   "id": "3e63ac72-4485-473e-b126-3c843d1a368b",
   "metadata": {},
   "outputs": [],
   "source": [
    "fig, ax = plt.subplots(dpi=300, figsize=(1, 5))\n",
    "ax.set_axis_off()\n",
    "ax.tripcolor(template.sinn.triangulation, data_dict[\"input_faces\"][0, 8].numpy(), cmap=\"cmo.balance\", vmin=-4, vmax=4)\n",
    "ax.set_xlim(-20000, 20000)\n",
    "ax.set_ylim(-100000, 100000)\n",
    "fig.savefig(\"figures/fig03_network/01_input.png\", bbox_inches='tight', pad_inches = 0)"
   ]
  },
  {
   "cell_type": "code",
   "execution_count": null,
   "id": "0f363326-1da1-4ef2-b4f3-8ceb964925e2",
   "metadata": {},
   "outputs": [],
   "source": [
    "fig, ax = plt.subplots(dpi=300, figsize=(1, 5))\n",
    "ax.set_axis_off()\n",
    "ax.pcolormesh(cart_bounds_x, cart_bounds_y, predictor_cart[0, 14].numpy(), cmap=\"cmo.balance\", vmin=-4, vmax=4)\n",
    "ax.set_xlim(-20000, 20000)\n",
    "ax.set_ylim(-100000, 100000)\n",
    "fig.savefig(\"figures/fig03_network/02_input_cart.png\", bbox_inches='tight', pad_inches = 0)"
   ]
  },
  {
   "cell_type": "raw",
   "id": "7cc86b73-d5ec-4f5e-b221-69c85714f875",
   "metadata": {},
   "source": [
    "fig, ax = plt.subplots(nrows=4, ncols=32, dpi=60, figsize=(1*32, 5*4), sharex=True, sharey=True)\n",
    "for i in range(128):\n",
    "    ax[i//32, i%32].set_axis_off()\n",
    "    sel_feature = features_cart[0, i].numpy()\n",
    "    ax[i//32, i%32].pcolormesh(cart_bounds_x, cart_bounds_y, sel_feature, cmap=\"cmo.thermal\", vmin=0, vmax=np.quantile(sel_feature, 0.99))\n",
    "ax[0, 0].set_xlim(-20000, 20000)\n",
    "ax[0, 0].set_ylim(-100000, 100000)"
   ]
  },
  {
   "cell_type": "code",
   "execution_count": null,
   "id": "dae76754-7d29-492b-9aa8-8ab03fa83091",
   "metadata": {},
   "outputs": [],
   "source": [
    "fig, ax = plt.subplots(dpi=300, figsize=(1, 5))\n",
    "ax.set_axis_off()\n",
    "norm_features = features_cart[0, 83].numpy()\n",
    "norm_features = norm_features / norm_features.max()\n",
    "ax.pcolormesh(cart_bounds_x, cart_bounds_y, norm_features, cmap=\"cmo.thermal\", vmin=0, vmax=1.,)\n",
    "#ax.set_xlim(-20000, 20000)\n",
    "ax.set_ylim(-100000, 100000)\n",
    "fig.savefig(\"figures/fig03_network/03_features_cart.png\", bbox_inches='tight', pad_inches = 0)"
   ]
  },
  {
   "cell_type": "code",
   "execution_count": null,
   "id": "6411678f-19f6-45ea-82ab-d2ed10b56641",
   "metadata": {},
   "outputs": [],
   "source": [
    "fig, ax = plt.subplots(dpi=300, figsize=(1, 5))\n",
    "ax.set_axis_off()\n",
    "norm_features = features_faces[0, 83].numpy()\n",
    "norm_features = norm_features / norm_features.max()\n",
    "ax.tripcolor(template.sinn.triangulation, norm_features, cmap=\"cmo.thermal\", vmin=0, vmax=1.,)\n",
    "ax.set_xlim(-20000, 20000)\n",
    "ax.set_ylim(-100000, 100000)\n",
    "fig.savefig(\"figures/fig03_network/04_features_tri.png\", bbox_inches='tight', pad_inches = 0)"
   ]
  },
  {
   "cell_type": "code",
   "execution_count": null,
   "id": "e3be7a77-e65d-47d4-9e5b-5c30a62fc54a",
   "metadata": {},
   "outputs": [],
   "source": [
    "fig, ax = plt.subplots(dpi=300, figsize=(1, 5))\n",
    "ax.set_axis_off()\n",
    "ax.tripcolor(template.sinn.triangulation, error_faces[0, 3].numpy(), cmap=\"cmo.balance\", vmin=-1., vmax=1.)\n",
    "ax.set_xlim(-20000, 20000)\n",
    "ax.set_ylim(-100000, 100000)\n",
    "fig.savefig(\"figures/fig03_network/05_prediction.png\", bbox_inches='tight', pad_inches = 0)"
   ]
  },
  {
   "cell_type": "raw",
   "id": "90396623-419d-499b-ac7f-7c2492a6ac6b",
   "metadata": {},
   "source": [
    "fig, ax = plt.subplots(dpi=150, figsize=(1, 5))\n",
    "ax.set_axis_off()\n",
    "divnorm = mpl_colors.TwoSlopeNorm(vmin=-1., vcenter=0, vmax=5)\n",
    "ax.pcolormesh(cart_bounds_x, cart_bounds_y, errors_cart[0, 3].numpy(), cmap=\"cmo.balance\", vmin=-1, vmax=1)\n",
    "#ax.set_xlim(-20000, 20000)\n",
    "ax.set_ylim(-100000, 100000)\n",
    "fig.savefig(\"figures/fig03_network/05_prediction_cart.png\", bbox_inches='tight', pad_inches = 0)"
   ]
  },
  {
   "cell_type": "code",
   "execution_count": null,
   "id": "cc6f0af6-8eb5-4d2a-b47d-3f753070466e",
   "metadata": {},
   "outputs": [],
   "source": []
  }
 ],
 "metadata": {
  "kernelspec": {
   "display_name": "Python [conda env:subsinn]",
   "language": "python",
   "name": "conda-env-subsinn-py"
  },
  "language_info": {
   "codemirror_mode": {
    "name": "ipython",
    "version": 3
   },
   "file_extension": ".py",
   "mimetype": "text/x-python",
   "name": "python",
   "nbconvert_exporter": "python",
   "pygments_lexer": "ipython3"
  }
 },
 "nbformat": 4,
 "nbformat_minor": 5
}
