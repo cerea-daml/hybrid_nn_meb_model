{
 "cells": [
  {
   "cell_type": "code",
   "execution_count": null,
   "id": "41009f72-b9c8-4352-a0b4-1eaeead96a02",
   "metadata": {},
   "outputs": [],
   "source": [
    "import sys\n",
    "sys.path.append(\"../../\")\n",
    "\n",
    "import os\n",
    "import numpy as np\n",
    "\n",
    "from tqdm.notebook import tqdm\n",
    "\n",
    "import torch\n",
    "import torch.nn\n",
    "\n",
    "import xarray as xr\n",
    "\n",
    "from hydra import initialize, compose\n",
    "from hydra.utils import instantiate\n",
    "\n",
    "import matplotlib as mpl\n",
    "import matplotlib.pyplot as plt\n",
    "import matplotlib.colors as mpl_colors\n",
    "import matplotlib.gridspec as mpl_gs\n",
    "import cmocean\n",
    "\n",
    "from src_screening.datasets import OfflineDataset"
   ]
  },
  {
   "cell_type": "code",
   "execution_count": null,
   "id": "43f5bb0c-3c5f-42d3-b772-87e470e46752",
   "metadata": {},
   "outputs": [],
   "source": [
    "plt.style.use(\"paper\")\n",
    "plt.style.use(\"egu_journals\")\n",
    "plt.style.use(\"presentation\")"
   ]
  },
  {
   "cell_type": "markdown",
   "id": "7a80316f-b380-4d88-ac33-5ecc3b7260c2",
   "metadata": {},
   "source": [
    "# Load data"
   ]
  },
  {
   "cell_type": "code",
   "execution_count": null,
   "id": "7f28c710-9a15-4f03-98cc-00e5ee884079",
   "metadata": {},
   "outputs": [],
   "source": [
    "dataset = OfflineDataset(\n",
    "    \"../../data/raw/test/dataset/input_normal/\",\n",
    "    \"../../data/raw/test/dataset/target_normal/\"\n",
    ")\n",
    "template = xr.open_dataset(\"../../data/interim/template_lr.nc\")"
   ]
  },
  {
   "cell_type": "markdown",
   "id": "4a380603-eb4e-4907-a0ea-4908535124d5",
   "metadata": {},
   "source": [
    "## Load model"
   ]
  },
  {
   "cell_type": "code",
   "execution_count": null,
   "id": "7b3bb197-1b0a-43c9-ac12-c7db4c149f7b",
   "metadata": {},
   "outputs": [],
   "source": [
    "def load_model(\n",
    "        model_checkpoint: str,\n",
    ") -> torch.nn.Module:\n",
    "    model_dir = os.path.dirname(model_checkpoint)\n",
    "    with initialize(config_path=os.path.join(model_dir, 'hydra')):\n",
    "        cfg = compose('config.yaml')\n",
    "\n",
    "    try:\n",
    "        cfg[\"model\"][\"backbone\"][\"_target_\"] = 'src_screening.network.backbone.UNextBackbone'\n",
    "        cfg[\"model\"][\"_target_\"] = 'src_screening.network.offline.DeterministicOfflineModel'\n",
    "        cfg[\"model\"][\"backbone\"][\"cartesian_weights_path\"] = \"../../\" + cfg[\"model\"][\"backbone\"][\"cartesian_weights_path\"]\n",
    "        model: torch.nn.Module = instantiate(\n",
    "            cfg.model,\n",
    "            optimizer_config=cfg.optimizer,\n",
    "            _recursive_=False\n",
    "        )\n",
    "    except Exception as e:\n",
    "        cfg[\"network\"][\"backbone\"][\"cartesian_weights_path\"] = \"../../\" + cfg[\"network\"][\"backbone\"][\"cartesian_weights_path\"]\n",
    "        model = instantiate(\n",
    "            cfg.network,\n",
    "            optimizer_config=cfg.optimizer,\n",
    "            _recursive_=False\n",
    "        )        \n",
    "    state_dict = torch.load(model_checkpoint, map_location=torch.device(\"cpu\"))\n",
    "    model.load_state_dict(state_dict[\"state_dict\"], strict=False)\n",
    "    model = model.eval().cpu()\n",
    "    return model"
   ]
  },
  {
   "cell_type": "code",
   "execution_count": null,
   "id": "0057181a-f6a5-4d05-ab9a-58ba2d212045",
   "metadata": {},
   "outputs": [],
   "source": [
    "network_8_32 = load_model(\"../../data/models_jeanzay/cartesian_32x8/9/last.ckpt\")\n",
    "network_16_64 = load_model(\"../../data/models_jeanzay/cartesian_64x16/9/last.ckpt\")\n",
    "network_32_128 = load_model(\"../../data/models_jeanzay/unext_small/9/last.ckpt\")"
   ]
  },
  {
   "cell_type": "markdown",
   "id": "673b5f87-ab16-401d-b9c7-399500a9c8c4",
   "metadata": {},
   "source": [
    "# Get cartesian features"
   ]
  },
  {
   "cell_type": "code",
   "execution_count": null,
   "id": "6cba93cb-bafe-4cf1-bfcb-a390f7f258d3",
   "metadata": {},
   "outputs": [],
   "source": [
    "test_sample = dataset[0]"
   ]
  },
  {
   "cell_type": "code",
   "execution_count": null,
   "id": "28495c4d-3f37-4470-b742-a60407eb2c5a",
   "metadata": {},
   "outputs": [],
   "source": [
    "with torch.no_grad():\n",
    "    predictor_cart = network_8_32.backbone.to_cartesian(test_sample[\"input_nodes\"][None, ...], test_sample[\"input_faces\"][None, ...])\n",
    "    features_8_32 = network_8_32.backbone.get_backbone_prediction(predictor_cart)\n",
    "\n",
    "    predictor_cart = network_16_64.backbone.to_cartesian(test_sample[\"input_nodes\"][None, ...], test_sample[\"input_faces\"][None, ...])\n",
    "    features_16_64 = network_16_64.backbone.get_backbone_prediction(predictor_cart)\n",
    "\n",
    "    predictor_cart = network_32_128.backbone.to_cartesian(test_sample[\"input_nodes\"][None, ...], test_sample[\"input_faces\"][None, ...])\n",
    "    features_32_128 = network_32_128.backbone.get_backbone_prediction(predictor_cart)"
   ]
  },
  {
   "cell_type": "markdown",
   "id": "9d539bf3-0b6a-4e31-aeda-ea0e3a9a6466",
   "metadata": {},
   "source": [
    "# Plot features"
   ]
  },
  {
   "cell_type": "code",
   "execution_count": null,
   "id": "a34488bf-8f33-4970-aafc-cb34c5704acd",
   "metadata": {},
   "outputs": [],
   "source": [
    "def get_cart_bounds(n_x, n_y):\n",
    "    res_x = 40000/n_x\n",
    "    res_y = 200000/n_y\n",
    "    bounds_x = np.linspace(-20000, 20000, n_x+1)\n",
    "    bounds_y = np.linspace(-100000, 100000, n_y+1)\n",
    "    return bounds_x, bounds_y"
   ]
  },
  {
   "cell_type": "code",
   "execution_count": null,
   "id": "5ae18c7d-8c1a-4971-9748-eb0c21c5e6dd",
   "metadata": {},
   "outputs": [],
   "source": [
    "fig, ax = plt.subplots(nrows=4, ncols=32, dpi=60, figsize=(1*32, 5*4), sharex=True, sharey=True)\n",
    "for i in range(128):\n",
    "    ax[i//32, i%32].set_axis_off()\n",
    "    sel_feature = features_32_128[0, i].numpy()\n",
    "    ax[i//32, i%32].pcolormesh(*get_cart_bounds(32, 128), sel_feature, cmap=\"cmo.thermal\", vmin=0, vmax=np.quantile(sel_feature, 0.99))\n",
    "ax[0, 0].set_xlim(-20000, 20000)\n",
    "ax[0, 0].set_ylim(-100000, 100000)"
   ]
  },
  {
   "cell_type": "markdown",
   "id": "197020b6-6653-43f4-a749-d6b30e1ac17a",
   "metadata": {},
   "source": [
    "# Input"
   ]
  },
  {
   "cell_type": "code",
   "execution_count": null,
   "id": "dae76754-7d29-492b-9aa8-8ab03fa83091",
   "metadata": {},
   "outputs": [],
   "source": [
    "fig, ax = plt.subplots(nrows=3, dpi=150, figsize=(12, 12*3/5), sharex=True, sharey=True)\n",
    "\n",
    "ax[0].set_axis_off()\n",
    "lr_feature = features_8_32[0, 69].numpy()\n",
    "plt_lr = ax[0].pcolormesh(\n",
    "    *get_cart_bounds(8, 32), lr_feature/np.quantile(lr_feature, 0.99),\n",
    "    cmap=\"cmo.thermal\", vmin=0, vmax=1, rasterized=True\n",
    ")\n",
    "t2 = mpl.transforms.Affine2D().rotate_deg(-90) + ax[0].transData\n",
    "plt_lr.set_transform(t2)\n",
    "ax[0].set_xlim(-20000, 20000)\n",
    "ax[0].set_ylim(-100000, 100000)\n",
    "ax[0].text(x=0.005, y=0.98, s=r\"(a)\", transform=ax[0].transAxes, ha=\"left\", va=\"top\", color=\"white\")\n",
    "ax[0].text(x=0.995, y=0.98, s=r\"$8 \\times 32$\", transform=ax[0].transAxes, ha=\"right\", va=\"top\", color=\"white\")\n",
    "\n",
    "ax[1].set_axis_off()\n",
    "med_feature = features_16_64[0, 6].numpy()\n",
    "plt_med = ax[1].pcolormesh(\n",
    "    *get_cart_bounds(16, 64), med_feature/np.quantile(med_feature, 0.99),\n",
    "    cmap=\"cmo.thermal\", vmin=0, vmax=1, rasterized=True\n",
    ")\n",
    "ax[1].set_xlim(-20000, 20000)\n",
    "ax[1].set_ylim(-100000, 100000)\n",
    "t2 = mpl.transforms.Affine2D().rotate_deg(-90) + ax[1].transData\n",
    "plt_med.set_transform(t2)\n",
    "ax[1].text(x=0.005, y=0.98, s=r\"(b)\", transform=ax[1].transAxes, ha=\"left\", va=\"top\", color=\"white\")\n",
    "ax[1].text(x=0.995, y=0.98, s=r\"$16 \\times 64$\", transform=ax[1].transAxes, ha=\"right\", va=\"top\", color=\"white\")\n",
    "\n",
    "\n",
    "ax[2].set_axis_off()\n",
    "hr_feature = features_32_128[0, 38].numpy()\n",
    "plt_hr = ax[2].pcolormesh(\n",
    "    *get_cart_bounds(32, 128), hr_feature/np.quantile(hr_feature, 0.99),\n",
    "    cmap=\"cmo.thermal\", vmin=0, vmax=1, rasterized=True\n",
    ")\n",
    "ax[2].set_xlim(-20000, 20000)\n",
    "ax[2].set_ylim(-100000, 100000)\n",
    "t2 = mpl.transforms.Affine2D().rotate_deg(-90) + ax[2].transData\n",
    "plt_hr.set_transform(t2)\n",
    "ax[2].text(x=0.005, y=0.98, s=r\"(c)\", transform=ax[2].transAxes, ha=\"left\", va=\"top\", color=\"white\")\n",
    "ax[2].text(x=0.995, y=0.98, s=r\"$32 \\times 128$\", transform=ax[2].transAxes, ha=\"right\", va=\"top\", color=\"white\")\n",
    "\n",
    "ax[0].set_ylim(-20000, 20000)\n",
    "ax[0].set_xlim(-100000, 100000)\n",
    "\n",
    "ax_cbar = fig.add_axes([1, 0.1648, 0.02, 0.803])\n",
    "norm = mpl_colors.Normalize(vmin=0, vmax=1)\n",
    "cbar = mpl.colorbar.ColorbarBase(ax_cbar, cmap=\"cmo.thermal\", norm=norm, label=\"Normalised activation\", orientation=\"vertical\")\n",
    "plt.subplots_adjust(hspace=0.15)\n",
    "\n",
    "fig.savefig(\"figures/fig05_normalised_activations.pdf\", bbox_inches='tight', pad_inches = 0)"
   ]
  },
  {
   "cell_type": "markdown",
   "id": "7c1d4614-e4c6-4534-baa4-14f57e775d64",
   "metadata": {},
   "source": [
    "#### "
   ]
  }
 ],
 "metadata": {
  "kernelspec": {
   "display_name": "Python [conda env:subsinn]",
   "language": "python",
   "name": "conda-env-subsinn-py"
  },
  "language_info": {
   "codemirror_mode": {
    "name": "ipython",
    "version": 3
   },
   "file_extension": ".py",
   "mimetype": "text/x-python",
   "name": "python",
   "nbconvert_exporter": "python",
   "pygments_lexer": "ipython3"
  }
 },
 "nbformat": 4,
 "nbformat_minor": 5
}
