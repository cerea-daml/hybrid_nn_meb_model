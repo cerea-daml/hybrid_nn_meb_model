{
 "cells": [
  {
   "cell_type": "code",
   "execution_count": 1,
   "id": "00314d60-f7b9-4e45-bcf0-ea6f3229508b",
   "metadata": {},
   "outputs": [],
   "source": [
    "import sys\n",
    "sys.path.append(\"../..\")\n",
    "import os.path\n",
    "\n",
    "from hydra import initialize, compose\n",
    "from hydra.utils import instantiate\n",
    "\n",
    "from pytorch_lightning.callbacks import ModelSummary\n",
    "from pytorch_lightning import Trainer\n",
    "\n",
    "import torch"
   ]
  },
  {
   "cell_type": "code",
   "execution_count": 2,
   "id": "0aec3bc1-837a-4f53-8fb8-46058ef23388",
   "metadata": {
    "tags": []
   },
   "outputs": [],
   "source": [
    "def load_model(\n",
    "        model_checkpoint: str,\n",
    ") -> torch.nn.Module:\n",
    "    model_dir = os.path.dirname(model_checkpoint)\n",
    "    with initialize(config_path=os.path.join(model_dir, 'hydra')):\n",
    "        cfg = compose('config.yaml')\n",
    "    if \"model\" in cfg.keys():\n",
    "        cfg[\"model\"][\"_target_\"] = cfg[\"model\"][\"_target_\"].replace(\n",
    "            \".model.\", \".network.\"\n",
    "        )\n",
    "        cfg[\"model\"][\"backbone\"][\"_target_\"] = cfg[\"model\"][\"backbone\"][\"_target_\"].replace(\n",
    "            \".model.\", \".network.\"\n",
    "        )\n",
    "        cfg[\"model\"][\"backbone\"][\"cartesian_weights_path\"] = \"../../\" + cfg[\"model\"][\"backbone\"][\"cartesian_weights_path\"]\n",
    "        model = instantiate(\n",
    "            cfg.model,\n",
    "            optimizer_config=cfg.optimizer,\n",
    "            _recursive_=False\n",
    "        )\n",
    "    else:\n",
    "        cfg[\"network\"][\"backbone\"][\"cartesian_weights_path\"] = \"../../\" + cfg[\"network\"][\"backbone\"][\"cartesian_weights_path\"]\n",
    "        model = instantiate(\n",
    "            cfg.network,\n",
    "            optimizer_config=cfg.optimizer,\n",
    "            _recursive_=False\n",
    "        )    \n",
    "    state_dict = torch.load(model_checkpoint, map_location=torch.device(\"cpu\"))\n",
    "    model.load_state_dict(state_dict[\"state_dict\"], strict=False)\n",
    "    model = model.eval().cpu()\n",
    "    model = model.requires_grad_(False)\n",
    "    return model"
   ]
  },
  {
   "cell_type": "code",
   "execution_count": 3,
   "id": "b6d8c858-8c7a-46db-a86d-13a6ca8b839a",
   "metadata": {},
   "outputs": [
    {
     "name": "stderr",
     "output_type": "stream",
     "text": [
      "/tmp/ipykernel_990490/4017227567.py:5: UserWarning: \n",
      "The version_base parameter is not specified.\n",
      "Please specify a compatability version level, or None.\n",
      "Will assume defaults for version 1.1\n",
      "  with initialize(config_path=os.path.join(model_dir, 'hydra')):\n"
     ]
    }
   ],
   "source": [
    "network = load_model(\"../../data/models_jeanzay/unext_small/9/last.ckpt\")"
   ]
  },
  {
   "cell_type": "code",
   "execution_count": 4,
   "id": "82c5797f-ebe7-4e42-b5e8-32d5ec3c7e56",
   "metadata": {},
   "outputs": [
    {
     "name": "stderr",
     "output_type": "stream",
     "text": [
      "/cerea_raid/users/finnt/usr/miniconda3/envs/subsinn/lib/python3.9/site-packages/pytorch_lightning/loops/utilities.py:91: PossibleUserWarning: `max_epochs` was not set. Setting it to 1000 epochs. To train without an epoch limit, set `max_epochs=-1`.\n",
      "  rank_zero_warn(\n",
      "GPU available: True, used: False\n",
      "TPU available: False, using: 0 TPU cores\n",
      "IPU available: False, using: 0 IPUs\n",
      "HPU available: False, using: 0 HPUs\n",
      "/cerea_raid/users/finnt/usr/miniconda3/envs/subsinn/lib/python3.9/site-packages/pytorch_lightning/trainer/trainer.py:1812: PossibleUserWarning: GPU available but not used. Set `accelerator` and `devices` using `Trainer(accelerator='gpu', devices=1)`.\n",
      "  rank_zero_warn(\n",
      "\n",
      "   | Name                               | Type               | Params\n",
      "---------------------------------------------------------------------------\n",
      "0  | loss_func                          | LaplaceNLLLoss     | 9     \n",
      "1  | fixed_laplace                      | LaplaceNLLLoss     | 9     \n",
      "2  | fixed_gaussian                     | GaussianNLLLoss    | 9     \n",
      "3  | best_metric                        | MinMetric          | 0     \n",
      "4  | backbone                           | UNextBackbone      | 1.2 M \n",
      "5  | backbone.to_cartesian              | ToCartesianLayer   | 0     \n",
      "6  | backbone.from_cartesian            | FromCartesianLayer | 0     \n",
      "7  | backbone.init_layer                | ConvNextBlock      | 23.1 K\n",
      "8  | backbone.init_layer.ds_conv        | Conv2d             | 1.0 K \n",
      "9  | backbone.init_layer.net            | Sequential         | 19.2 K\n",
      "10 | backbone.init_layer.net.0          | GroupNorm          | 40    \n",
      "11 | backbone.init_layer.net.1          | Conv2d             | 2.7 K \n",
      "12 | backbone.init_layer.net.2          | GELU               | 0     \n",
      "13 | backbone.init_layer.net.3          | Conv2d             | 16.5 K\n",
      "14 | backbone.init_layer.res_conv       | Conv2d             | 2.7 K \n",
      "15 | backbone.down_layers               | ModuleList         | 585 K \n",
      "16 | backbone.down_layers.0             | DownLayer          | 585 K \n",
      "17 | backbone.down_layers.0.pooling     | Sequential         | 295 K \n",
      "18 | backbone.down_layers.0.pooling.0   | GroupNorm          | 256   \n",
      "19 | backbone.down_layers.0.pooling.1   | Conv2d             | 295 K \n",
      "20 | backbone.down_layers.0.out_layer   | Sequential         | 290 K \n",
      "21 | backbone.down_layers.0.out_layer.0 | ConvNextBlock      | 145 K \n",
      "22 | backbone.down_layers.0.out_layer.1 | ConvNextBlock      | 145 K \n",
      "23 | backbone.up_layers                 | ModuleList         | 431 K \n",
      "24 | backbone.up_layers.0               | UpLayer            | 431 K \n",
      "25 | backbone.up_layers.0.upscaling     | Sequential         | 295 K \n",
      "26 | backbone.up_layers.0.upscaling.0   | Upsample           | 0     \n",
      "27 | backbone.up_layers.0.upscaling.1   | GroupNorm          | 512   \n",
      "28 | backbone.up_layers.0.upscaling.2   | Conv2d             | 295 K \n",
      "29 | backbone.up_layers.0.out_layer     | Sequential         | 135 K \n",
      "30 | backbone.up_layers.0.out_layer.0   | ConvNextBlock      | 95.7 K\n",
      "31 | backbone.up_layers.0.out_layer.1   | ConvNextBlock      | 39.8 K\n",
      "32 | backbone.bottleneck_layer          | ConvNextBlock      | 145 K \n",
      "33 | backbone.bottleneck_layer.ds_conv  | Conv2d             | 12.8 K\n",
      "34 | backbone.bottleneck_layer.net      | Sequential         | 132 K \n",
      "35 | backbone.bottleneck_layer.net.0    | GroupNorm          | 512   \n",
      "36 | backbone.bottleneck_layer.net.1    | Conv2d             | 65.8 K\n",
      "37 | backbone.bottleneck_layer.net.2    | GELU               | 0     \n",
      "38 | backbone.bottleneck_layer.net.3    | Conv2d             | 65.8 K\n",
      "39 | backbone.out_layer                 | Sequential         | 39.8 K\n",
      "40 | backbone.out_layer.0               | ConvNextBlock      | 39.8 K\n",
      "41 | backbone.out_layer.0.ds_conv       | Conv2d             | 6.4 K \n",
      "42 | backbone.out_layer.0.net           | Sequential         | 33.3 K\n",
      "43 | backbone.out_layer.0.net.0         | GroupNorm          | 256   \n",
      "44 | backbone.out_layer.0.net.1         | Conv2d             | 16.5 K\n",
      "45 | backbone.out_layer.0.net.2         | GELU               | 0     \n",
      "46 | backbone.out_layer.0.net.3         | Conv2d             | 16.5 K\n",
      "47 | backbone.out_layer.1               | ReLU               | 0     \n",
      "48 | head_node                          | Conv1d             | 258   \n",
      "49 | head_face                          | Conv1d             | 903   \n",
      "---------------------------------------------------------------------------\n",
      "0         Trainable params\n",
      "1.2 M     Non-trainable params\n",
      "1.2 M     Total params\n",
      "4.904     Total estimated model params size (MB)\n"
     ]
    }
   ],
   "source": [
    "summary = ModelSummary(max_depth=5)\n",
    "trainer = Trainer()\n",
    "summary.on_fit_start(trainer, network)"
   ]
  },
  {
   "cell_type": "code",
   "execution_count": 5,
   "id": "61ef66cc-9326-4f44-bfb8-32c45b40d195",
   "metadata": {},
   "outputs": [
    {
     "name": "stdout",
     "output_type": "stream",
     "text": [
      "1224848\n"
     ]
    }
   ],
   "source": [
    "print(sum(p.numel() for p in network.backbone.parameters()))"
   ]
  },
  {
   "cell_type": "code",
   "execution_count": 6,
   "id": "ee244509-4bad-4bcc-92f2-f0f7040e3448",
   "metadata": {},
   "outputs": [
    {
     "name": "stdout",
     "output_type": "stream",
     "text": [
      "23056\n",
      "295424\n",
      "145152\n",
      "145152\n",
      "145152\n",
      "295552\n",
      "95744\n",
      "39808\n",
      "39808\n"
     ]
    }
   ],
   "source": [
    "print(sum(p.numel() for p in network.backbone.init_layer.parameters()))\n",
    "print(sum(p.numel() for p in network.backbone.down_layers[0].pooling.parameters()))\n",
    "print(sum(p.numel() for p in network.backbone.down_layers[0].out_layer[0].parameters()))\n",
    "print(sum(p.numel() for p in network.backbone.down_layers[0].out_layer[1].parameters()))\n",
    "print(sum(p.numel() for p in network.backbone.bottleneck_layer.parameters()))\n",
    "print(sum(p.numel() for p in network.backbone.up_layers[0].upscaling.parameters()))\n",
    "print(sum(p.numel() for p in network.backbone.up_layers[0].out_layer[0].parameters()))\n",
    "print(sum(p.numel() for p in network.backbone.up_layers[0].out_layer[1].parameters()))\n",
    "print(sum(p.numel() for p in network.backbone.out_layer.parameters()))"
   ]
  }
 ],
 "metadata": {
  "kernelspec": {
   "display_name": "Python [conda env:subsinn]",
   "language": "python",
   "name": "conda-env-subsinn-py"
  },
  "language_info": {
   "codemirror_mode": {
    "name": "ipython",
    "version": 3
   },
   "file_extension": ".py",
   "mimetype": "text/x-python",
   "name": "python",
   "nbconvert_exporter": "python",
   "pygments_lexer": "ipython3",
   "version": "3.9.12"
  }
 },
 "nbformat": 4,
 "nbformat_minor": 5
}
